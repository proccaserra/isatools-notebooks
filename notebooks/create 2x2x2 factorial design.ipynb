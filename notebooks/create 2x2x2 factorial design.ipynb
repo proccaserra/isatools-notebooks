{
 "cells": [
  {
   "cell_type": "code",
   "execution_count": null,
   "metadata": {
    "scrolled": true
   },
   "outputs": [],
   "source": [
    "from isatools.model import *\n",
    "import pandas as pd\n",
    "import datetime as dt\n",
    "from isatools.create.models import * \n",
    "import json\n",
    "from isatools.isajson import ISAJSONEncoder\n"
   ]
  },
  {
   "cell_type": "code",
   "execution_count": null,
   "metadata": {
    "scrolled": true
   },
   "outputs": [],
   "source": [
    "investigation = Investigation()\n",
    "study = Study(filename=\"s_study_2by2by2.txt\")\n",
    "study.identifier = \"2x2x2\"\n",
    "study.title = \"2x2x2 factorial design study\"\n",
    "study.description = \"a simple full factorial design study 2x2x2\"\n",
    "study.submission_date = \"2013-04-23\"\n",
    "study.public_release_date = \"2013-05-30\"\n",
    "#study.sources = [Source(name=\"source1\")]\n",
    "#study.samples = [Sample(name=\"sample1\")]\n",
    "study.protocols = [Protocol(name=\"sample collection\")]\n",
    "#study.process_sequence = [Process(executes_protocol=study.protocols[-1], inputs=[study.sources[-1]], outputs=[study.samples[-1]])]\n",
    "investigation.studies = [study]\n",
    "print(investigation)\n"
   ]
  },
  {
   "cell_type": "code",
   "execution_count": null,
   "metadata": {
    "scrolled": true
   },
   "outputs": [],
   "source": [
    "print(json.dumps(investigation, cls=ISAJSONEncoder, sort_keys=True, indent=4, separators=(',', ': ')))"
   ]
  },
  {
   "cell_type": "code",
   "execution_count": null,
   "metadata": {
    "scrolled": true
   },
   "outputs": [],
   "source": [
    "f1 = StudyFactor(name='painkiller', factor_type=OntologyAnnotation(term=\"chemical compound\"))\n",
    "f2 = StudyFactor(name='dose', factor_type=OntologyAnnotation(term=\"quantity\"))\n",
    "f3 = StudyFactor(name='time post exposure', factor_type=OntologyAnnotation(term=\"time\"))"
   ]
  },
  {
   "cell_type": "code",
   "execution_count": null,
   "metadata": {
    "scrolled": true
   },
   "outputs": [],
   "source": [
    "f1v1 = FactorValue(factor_name=f1, value=OntologyAnnotation(term=\"aspirin\"))\n",
    "f2v1 = FactorValue(factor_name=f2, value=OntologyAnnotation(term='low dose'))\n",
    "f3v1 = FactorValue(factor_name=f3, value='1', unit=OntologyAnnotation(term='hr'))\n",
    "\n",
    "te1 = Treatment()\n",
    "te1.type='chemical intervention'\n",
    "te1.factor_values = [f1v1,f2v1,f3v1]"
   ]
  },
  {
   "cell_type": "code",
   "execution_count": null,
   "metadata": {
    "scrolled": true
   },
   "outputs": [],
   "source": [
    "f1v1 = FactorValue(factor_name=f1, value=OntologyAnnotation(term=\"aspirin\"))\n",
    "f2v2 = FactorValue(factor_name=f2, value=OntologyAnnotation(term='high dose'))\n",
    "f3v2 = FactorValue(factor_name=f3, value='72', unit=OntologyAnnotation(term='hr'))\n",
    "\n",
    "te2 = Treatment()\n",
    "te2.type='chemical intervention'\n",
    "te2.factor_values = [f1v1,f2v2,f3v2]"
   ]
  },
  {
   "cell_type": "code",
   "execution_count": null,
   "metadata": {
    "scrolled": true
   },
   "outputs": [],
   "source": [
    "f1v2 = FactorValue(factor_name=f1, value=OntologyAnnotation(term=\"paracetamol\"))\n",
    "f2v1 = FactorValue(factor_name=f2, value=OntologyAnnotation(term='low dose'))\n",
    "f3v1 = FactorValue(factor_name=f3, value='1', unit=OntologyAnnotation(term='hr'))\n",
    "\n",
    "te3 = Treatment()\n",
    "te3.type='chemical intervention'\n",
    "te3.factor_values = [f1v2,f2v1,f3v1]"
   ]
  },
  {
   "cell_type": "code",
   "execution_count": null,
   "metadata": {
    "scrolled": true
   },
   "outputs": [],
   "source": [
    "f1v2 = FactorValue(factor_name=f1, value=OntologyAnnotation(term=\"paracetamol\"))\n",
    "f2v2 = FactorValue(factor_name=f2, value=OntologyAnnotation(term='high dose'))\n",
    "f3v2 = FactorValue(factor_name=f3, value='72', unit=OntologyAnnotation(term='hr'))\n",
    "\n",
    "te4 = Treatment()\n",
    "te4.type='chemical intervention'\n",
    "te4.factor_values = [f1v2,f2v2,f3v2]"
   ]
  },
  {
   "cell_type": "code",
   "execution_count": null,
   "metadata": {
    "scrolled": true
   },
   "outputs": [],
   "source": [
    "f1v2 = FactorValue(factor_name=f1, value=OntologyAnnotation(term=\"paracetamol\"))\n",
    "f2v1 = FactorValue(factor_name=f2, value=OntologyAnnotation(term='low dose'))\n",
    "f3v2 = FactorValue(factor_name=f3, value='72', unit=OntologyAnnotation(term='hr'))\n",
    "\n",
    "te5 = Treatment()\n",
    "te5.type='chemical intervention'\n",
    "te5.factor_values = [f1v2,f2v1,f3v2]"
   ]
  },
  {
   "cell_type": "code",
   "execution_count": null,
   "metadata": {
    "scrolled": true
   },
   "outputs": [],
   "source": [
    "f1v1 = FactorValue(factor_name=f1, value=OntologyAnnotation(term=\"aspirin\"))\n",
    "f2v1 = FactorValue(factor_name=f2, value=OntologyAnnotation(term='low dose'))\n",
    "f3v2 = FactorValue(factor_name=f3, value='72', unit=OntologyAnnotation(term='hr'))\n",
    "\n",
    "te6 = Treatment()\n",
    "te6.type='chemical intervention'\n",
    "te6.factor_values = [f1v1,f2v1,f3v2]"
   ]
  },
  {
   "cell_type": "code",
   "execution_count": null,
   "metadata": {
    "scrolled": true
   },
   "outputs": [],
   "source": [
    "f1v2 = FactorValue(factor_name=f1, value=OntologyAnnotation(term=\"aspirin\"))\n",
    "f2v1 = FactorValue(factor_name=f2, value=OntologyAnnotation(term='low dose'))\n",
    "f3v2 = FactorValue(factor_name=f3, value='72', unit=OntologyAnnotation(term='hr'))\n",
    "\n",
    "te7 = Treatment()\n",
    "te7.type='chemical intervention'\n",
    "te7.factor_values = [f1v2,f2v1,f3v2]"
   ]
  },
  {
   "cell_type": "code",
   "execution_count": null,
   "metadata": {
    "scrolled": true
   },
   "outputs": [],
   "source": [
    "f1v2 = FactorValue(factor_name=f1, value=OntologyAnnotation(term=\"paracetamol\"))\n",
    "f2v2 = FactorValue(factor_name=f2, value=OntologyAnnotation(term='high dose'))\n",
    "f3v1 = FactorValue(factor_name=f3, value='1', unit=OntologyAnnotation(term='hr'))\n",
    "\n",
    "te8 = Treatment()\n",
    "te8.type='chemical intervention'\n",
    "te8.factor_values = [f1v2,f2v2,f3v1]"
   ]
  },
  {
   "cell_type": "code",
   "execution_count": null,
   "metadata": {
    "scrolled": true
   },
   "outputs": [],
   "source": [
    "st_cl1= StudyCell(name=\"st_cl1\", elements=[te1])\n",
    "st_cl2= StudyCell(name=\"st_cl2\", elements=[te2])\n",
    "st_cl3= StudyCell(name=\"st_cl3\", elements=[te3])\n",
    "st_cl4= StudyCell(name=\"st_cl4\", elements=[te4])\n",
    "st_cl5= StudyCell(name=\"st_cl5\", elements=[te5])\n",
    "st_cl6= StudyCell(name=\"st_cl6\", elements=[te6])\n",
    "st_cl7= StudyCell(name=\"st_cl7\", elements=[te7])\n",
    "st_cl8= StudyCell(name=\"st_cl8\", elements=[te8])\n"
   ]
  },
  {
   "cell_type": "code",
   "execution_count": null,
   "metadata": {
    "scrolled": true
   },
   "outputs": [],
   "source": [
    "arm1 = StudyArm(name='Group 1', group_size=10)\n",
    "arm2 = StudyArm(name='Group 2', group_size=10)\n",
    "arm3 = StudyArm(name='Group 3', group_size=10)\n",
    "arm4 = StudyArm(name='Group 4', group_size=10)\n",
    "arm5 = StudyArm(name='Group 5', group_size=10)\n",
    "arm6 = StudyArm(name='Group 6', group_size=10)\n",
    "arm7 = StudyArm(name='Group 7', group_size=10)\n",
    "arm8 = StudyArm(name='Group 8', group_size=10)"
   ]
  },
  {
   "cell_type": "code",
   "execution_count": null,
   "metadata": {
    "scrolled": true
   },
   "outputs": [],
   "source": [
    "input_material1=ProductNode(id_=\"MAT1\", name=\"liver\", node_type=SAMPLE,size=1,characteristics=[Characteristic(category=OntologyAnnotation(term='organism part'), value=OntologyAnnotation(term='liver'))])\n",
    "#input_material2=ProductNode(id_=\"MAT2\", name=\"blood\", node_type=SAMPLE,size=1,characteristics=[Characteristic(category='organism part', value='blood')])"
   ]
  },
  {
   "cell_type": "code",
   "execution_count": null,
   "metadata": {
    "scrolled": true
   },
   "outputs": [],
   "source": [
    "nmr_assay_dict = OrderedDict([\n",
    "    ('measurement_type', OntologyAnnotation(term='metabolite profiling')),\n",
    "    ('technology_type', OntologyAnnotation(term='nmr spectroscopy')),\n",
    "            ('extraction', {}),\n",
    "            ('extract', [\n",
    "                {\n",
    "                    'node_type': SAMPLE,\n",
    "                    'characteristics_category':  OntologyAnnotation(term='extract type'),\n",
    "                    'characteristics_value': OntologyAnnotation(term='supernatant'),\n",
    "                    'size': 1,\n",
    "                    'technical_replicates': None,\n",
    "                    'is_input_to_next_protocols': True\n",
    "                },\n",
    "                {\n",
    "                    'node_type': SAMPLE,\n",
    "                    'characteristics_category':  OntologyAnnotation(term='extract type'),\n",
    "                    'characteristics_value': OntologyAnnotation(term='pellet'),\n",
    "                    'size': 1,\n",
    "                    'technical_replicates': None,\n",
    "                    'is_input_to_next_protocols': True\n",
    "                }\n",
    "            ]),\n",
    "            ('nmr_spectroscopy', {\n",
    "                OntologyAnnotation(term='instrument'): [OntologyAnnotation(term='Bruker AvanceII 1 GHz')],\n",
    "                OntologyAnnotation(term='acquisition_mode'): [OntologyAnnotation(term='1D 13C NMR')],\n",
    "                OntologyAnnotation(term='pulse_sequence'): [OntologyAnnotation(term='CPMG')]\n",
    "            }),\n",
    "            ('raw_spectral_data_file', [\n",
    "                {\n",
    "                    'node_type': DATA_FILE,\n",
    "                    'size': 1,\n",
    "                    'technical_replicates': 2,\n",
    "                    'is_input_to_next_protocols': False\n",
    "                }\n",
    "            ])\n",
    "        ])"
   ]
  },
  {
   "cell_type": "code",
   "execution_count": null,
   "metadata": {
    "scrolled": true
   },
   "outputs": [],
   "source": [
    "nmr_assay_graph = AssayGraph.generate_assay_plan_from_dict(nmr_assay_dict)\n",
    "\n",
    "sap1 = SampleAndAssayPlan(sample_plan=[input_material1],assay_plan=[nmr_assay_graph])\n",
    "\n",
    "sample2assay_plan={input_material1: [nmr_assay_graph]}\n",
    "\n",
    "sap1.sample_to_assay_map=sample2assay_plan"
   ]
  },
  {
   "cell_type": "code",
   "execution_count": null,
   "metadata": {
    "scrolled": true
   },
   "outputs": [],
   "source": [
    "arm1.add_item_to_arm_map(st_cl1,sap1)\n",
    "arm2.add_item_to_arm_map(st_cl2,sap1)\n",
    "arm3.add_item_to_arm_map(st_cl3,sap1)\n",
    "arm4.add_item_to_arm_map(st_cl4,sap1)\n",
    "arm5.add_item_to_arm_map(st_cl5,sap1)\n",
    "arm6.add_item_to_arm_map(st_cl6,sap1)\n",
    "arm7.add_item_to_arm_map(st_cl7,sap1)\n",
    "arm8.add_item_to_arm_map(st_cl8,sap1)"
   ]
  },
  {
   "cell_type": "code",
   "execution_count": null,
   "metadata": {
    "scrolled": true
   },
   "outputs": [],
   "source": [
    "study_design= StudyDesign(name='parallel group design 2x2x2 #1')\n",
    "study_design.add_study_arm(arm1)\n",
    "study_design.add_study_arm(arm2)\n",
    "study_design.add_study_arm(arm3)\n",
    "study_design.add_study_arm(arm4)\n",
    "study_design.add_study_arm(arm5)\n",
    "study_design.add_study_arm(arm6)\n",
    "study_design.add_study_arm(arm7)\n",
    "study_design.add_study_arm(arm8)"
   ]
  },
  {
   "cell_type": "code",
   "execution_count": null,
   "metadata": {
    "scrolled": false
   },
   "outputs": [],
   "source": [
    "import json\n",
    "from isatools.isajson import ISAJSONEncoder\n",
    "from isatools.create.models import StudyDesignEncoder\n",
    "\n",
    "f=json.dumps(study_design, cls=StudyDesignEncoder, sort_keys=True, indent=4, separators=(',', ': '))"
   ]
  },
  {
   "cell_type": "code",
   "execution_count": null,
   "metadata": {
    "scrolled": true
   },
   "outputs": [],
   "source": [
    "def get_treatment_factors(some_element):\n",
    "    treat = \"\"\n",
    "    for j in range(len(some_element['factorValues'])):\n",
    "        if j < len(some_element['factorValues']) - 1:\n",
    "            if 'unit' in some_element['factorValues'][j].keys():\n",
    "                treat = treat + some_element['factorValues'][j]['factor']['name'].lower() + \": \" \\\n",
    "                        + str(some_element['factorValues'][j]['value']) + \" \" \\\n",
    "                        + str(some_element['factorValues'][j]['unit']['term'].lower()) + \", \"\n",
    "            else:\n",
    "                treat = treat + some_element['factorValues'][j]['factor']['name'].lower() + \": \" \\\n",
    "                        + str(some_element['factorValues'][j]['value']) + \",\"\n",
    "        else:\n",
    "            if 'unit' in some_element['factorValues'][j].keys():\n",
    "                treat = treat + some_element['factorValues'][j]['factor']['name'].lower() + \": \" \\\n",
    "                        + str(some_element['factorValues'][j]['value']) + \" \" \\\n",
    "                        + str(some_element['factorValues'][j]['unit']['term'].lower())\n",
    "            else:\n",
    "                treat = treat + some_element['factorValues'][j]['factor']['name'].lower() + \": \" \\\n",
    "                        + str(some_element['factorValues'][j]['value'])\n",
    "\n",
    "    return treat"
   ]
  },
  {
   "cell_type": "code",
   "execution_count": null,
   "metadata": {
    "scrolled": true
   },
   "outputs": [],
   "source": [
    "from bokeh.io import output_file, show\n",
    "from bokeh.plotting import figure\n",
    "from bokeh.models import ColumnDataSource, Range1d, BoxAnnotation, Label, Legend, LegendItem, LabelSet\n",
    "from bokeh.models.tools import HoverTool\n",
    "import holoviews as hv\n",
    "from holoviews import opts, dim\n",
    "hv.extension('bokeh')"
   ]
  },
  {
   "cell_type": "code",
   "execution_count": null,
   "metadata": {
    "scrolled": false
   },
   "outputs": [],
   "source": [
    "design = json.loads(json.dumps(study_design, cls=StudyDesignEncoder, sort_keys=True, indent=4, separators=(',', ': ')))\n",
    "frames = []\n",
    "Items = []\n",
    "\n",
    "# defining a color pallet for the different element types:\n",
    "element_colors = {\"biological intervention\": \"rgb(253,232,37)\",\n",
    "                  \"radiological intervention\": \"rgb(53, 155, 8)\",\n",
    "                  \"dietary intervention\": \"rgb(53, 155, 8)\",\n",
    "                  \"chemical intervention\": \"rgb(69, 13, 83)\",\n",
    "                  \"washout\": \"rgb(45, 62, 120)\",\n",
    "                  \"screen\": \"rgb(33, 144, 140)\",\n",
    "                  \"run in\": \"rgb(43, 144, 180)\",\n",
    "                  \"follow-up\": \"rgb(88, 189, 94)\",\n",
    "                  \"concomitant treatment\": \"rgb(255, 255, 0)\"}\n",
    "\n",
    "# processing the study design arms and treatment plans:\n",
    "for key in design[\"studyArms\"].keys():\n",
    "    DF = pd.DataFrame(columns=['Arm', 'Cell', 'Type', 'Start_date', 'End_date', 'Treatment', 'Color'])\n",
    "    arm_name = key\n",
    "    # print(\"arm: \", arm_name)\n",
    "    size = design[\"studyArms\"][key][\"groupSize\"]\n",
    "    size_annotation = \"n=\" + str(size)\n",
    "\n",
    "    cells_per_arm = design[\"studyArms\"][key][\"cells\"]\n",
    "    cell_counter = 0\n",
    "    for cell in cells_per_arm:\n",
    "        cell_name = cell['name']\n",
    "        elements_per_cell = cell['elements']\n",
    "\n",
    "        for element in elements_per_cell:\n",
    "            treat = \"\"\n",
    "            element_counter = 0                      \n",
    "            if 'concomitantTreatments' in element.keys():\n",
    "                element_counter = element_counter + 1\n",
    "                treatments = []\n",
    "                for item in element['concomitantTreatments']:\n",
    "                    treatment = get_treatment_factors(item)\n",
    "                    treatments.append(treatment)\n",
    "                    \n",
    "                concomitant = ','.join(treatments[0:-1])\n",
    "                concomitant = concomitant + ' and ' + treatments[-1]\n",
    "                array = [arm_name, cell_name, arm_name + \": [\" + concomitant + \"]_concomitant_\" + str(cell_counter),\n",
    "                     dt.datetime(cell_counter + 2000, 1, 1), dt.datetime(cell_counter + 2000 + 1, 1, 1),\n",
    "                     str(element['factorValues']),\n",
    "                     concomitant,\n",
    "                     element_colors[\"concomitant treatment\"]]\n",
    "                Items.append(array)\n",
    "\n",
    "            elif 'type' in element.keys():\n",
    "                treatment = get_treatment_factors(element)\n",
    "                element_counter = element_counter + 1\n",
    "                array = [arm_name, cell_name, arm_name + \": [\" + str(element['type']) + \"]_\" + str(cell_counter),\n",
    "                         dt.datetime((cell_counter + 2000), 1, 1), dt.datetime((cell_counter + 2000 + 1), 1, 1),\n",
    "                         # str(element['factorValues']),\n",
    "                         str(treatment),\n",
    "                         element_colors[element['type']]]\n",
    "                Items.append(array)\n",
    "\n",
    "            cell_counter = cell_counter + 1\n",
    "\n",
    "for i, Dat in enumerate(Items):\n",
    "    DF.loc[i] = Dat\n",
    "#     print(\"setting:\", DF.loc[i])\n",
    "\n",
    "# providing the canvas for the figure\n",
    "# print(\"THESE ARE THE TYPES_: \", DF.Type.tolist())\n",
    "fig = figure(title='Study Design Treatment Plan',\n",
    "             width=800,\n",
    "             height=400,\n",
    "             y_range=DF.Type.tolist(),\n",
    "             x_range=Range1d(DF.Start_date.min(), DF.End_date.max()),\n",
    "             tools='save')\n",
    "\n",
    "# adding a tool tip\n",
    "hover = HoverTool(tooltips=\"Task: @Type<br>\\\n",
    "Start: @Start_date<br>\\\n",
    "Cell_Name: @Cell<br>\\\n",
    "Treatment: @Treatment\")\n",
    "fig.add_tools(hover)\n",
    "\n",
    "DF['ID'] = DF.index+0.8\n",
    "# print(\"ID: \", DF['ID'])\n",
    "DF['ID1'] = DF.index+1.2\n",
    "# print(\"ID1: \", DF['ID1'])\n",
    "CDS = ColumnDataSource(DF)\n",
    "# , legend=str(size_annotation)\n",
    "r = fig.quad(left='Start_date', right='End_date', bottom='ID', top='ID1', source=CDS, color=\"Color\")\n",
    "fig.xaxis.axis_label = 'Time'\n",
    "fig.yaxis.axis_label = 'study arms'\n",
    "\n",
    "# working at providing a background color change for every arm in the study design\n",
    "counts = DF['Arm'].value_counts().tolist()\n",
    "# print(\"total number of study arms:\", len(counts), \"| number of phases per arm:\", counts)\n",
    "# box = []\n",
    "# for i, this_element in enumerate(DF['Arm']):\n",
    "#     if i==0:\n",
    "#         box[i] = BoxAnnotation(bottom=0,\n",
    "#                              top=DF['Arm'].value_counts().tolist()[0],\n",
    "#                              fill_color=\"blue\")\n",
    "#     elif i % 2 == 0:\n",
    "#         box[i] = BoxAnnotation(bottom=DF['Arm'].value_counts().tolist()[0],\n",
    "#                              top=DF['Arm'].value_counts().tolist()[0],\n",
    "#                              fill_color=\"silver\")\n",
    "#     else:\n",
    "#         box[i] = BoxAnnotation(bottom=DF['Arm'].value_counts().tolist()[0],\n",
    "#                              top=DF['Arm'].value_counts().tolist()[0] + DF['Arm'].value_counts().tolist()[1],\n",
    "#                              fill_color=\"grey\",\n",
    "#                              fill_alpha=0.1)\n",
    "# # adding the background color for each arm:\n",
    "# for element in box:\n",
    "#     fig.add_layout(element)\n",
    "# # fig.add_layout(box2)\n",
    "# # fig.add_layout(legend,'right')\n",
    "\n",
    "caption1 = Legend(items=[(str(size_annotation), [r])])\n",
    "fig.add_layout(caption1, 'right')\n",
    "\n",
    "citation = Label(x=10, y=-80, x_units='screen', y_units='screen',\n",
    "                 text='crossover design layout - isa-api 10.5', render_mode='css',\n",
    "                 border_line_color='gray', border_line_alpha=0.4,\n",
    "                 background_fill_color='white', background_fill_alpha=1.0)\n",
    "\n",
    "fig.add_layout(citation)\n",
    "\n",
    "show(fig)"
   ]
  },
  {
   "cell_type": "code",
   "execution_count": null,
   "metadata": {
    "scrolled": false
   },
   "outputs": [],
   "source": [
    "st_design2isa= study_design.generate_isa_study()"
   ]
  },
  {
   "cell_type": "code",
   "execution_count": null,
   "metadata": {
    "scrolled": true
   },
   "outputs": [],
   "source": [
    "len(st_design2isa.assays)"
   ]
  },
  {
   "cell_type": "code",
   "execution_count": null,
   "metadata": {
    "scrolled": true
   },
   "outputs": [],
   "source": [
    "investigation.studies=[st_design2isa]"
   ]
  },
  {
   "cell_type": "code",
   "execution_count": 63,
   "metadata": {
    "scrolled": false
   },
   "outputs": [
    {
     "name": "stdout",
     "output_type": "stream",
     "text": [
      "Assay(\n",
      "    measurement_type=metabolite profiling\n",
      "    technology_type=nmr spectroscopy\n",
      "    technology_platform=\n",
      "    filename=a_st_cl2_f82e4cb4-d139-4359-b336-2fd708ddee53_OntologyAnnotation(\n",
      "    term=metabolite profiling\n",
      "    term_source=\n",
      "    term_accession=\n",
      "    comments=0 Comment objects\n",
      ").txt\n",
      "    data_files=20 DataFile objects\n",
      "    samples=10 Sample objects\n",
      "    process_sequence=30 Process objects\n",
      "    other_material=0 Material objects\n",
      "    characteristic_categories=0 OntologyAnnotation objects\n",
      "    comments=0 Comment objects\n",
      "    units=0 Unit objects\n",
      ")\n",
      "Assay(\n",
      "    measurement_type=metabolite profiling\n",
      "    technology_type=nmr spectroscopy\n",
      "    technology_platform=\n",
      "    filename=a_st_cl1_f82e4cb4-d139-4359-b336-2fd708ddee53_OntologyAnnotation(\n",
      "    term=metabolite profiling\n",
      "    term_source=\n",
      "    term_accession=\n",
      "    comments=0 Comment objects\n",
      ").txt\n",
      "    data_files=20 DataFile objects\n",
      "    samples=10 Sample objects\n",
      "    process_sequence=30 Process objects\n",
      "    other_material=0 Material objects\n",
      "    characteristic_categories=0 OntologyAnnotation objects\n",
      "    comments=0 Comment objects\n",
      "    units=0 Unit objects\n",
      ")\n"
     ]
    }
   ],
   "source": [
    "print(investigation.studies[0].assays[1])\n",
    "print(investigation.studies[0].assays[0])"
   ]
  },
  {
   "cell_type": "code",
   "execution_count": null,
   "metadata": {
    "scrolled": false
   },
   "outputs": [],
   "source": [
    "print(json.dumps(investigation, cls=ISAJSONEncoder, sort_keys=True, indent=4, separators=(',', ': ')))"
   ]
  },
  {
   "cell_type": "code",
   "execution_count": null,
   "metadata": {
    "scrolled": true
   },
   "outputs": [],
   "source": [
    "from isatools import isatab\n",
    "isatab.dump(investigation, './')"
   ]
  },
  {
   "cell_type": "code",
   "execution_count": null,
   "metadata": {
    "scrolled": false
   },
   "outputs": [],
   "source": [
    "decoder = StudyDesignDecoder()\n",
    "decoder.loads(json.dumps(design))"
   ]
  }
 ],
 "metadata": {
  "kernelspec": {
   "display_name": "venv372",
   "language": "python",
   "name": "venv372"
  },
  "language_info": {
   "codemirror_mode": {
    "name": "ipython",
    "version": 3
   },
   "file_extension": ".py",
   "mimetype": "text/x-python",
   "name": "python",
   "nbconvert_exporter": "python",
   "pygments_lexer": "ipython3",
   "version": "3.6.5"
  }
 },
 "nbformat": 4,
 "nbformat_minor": 2
}
