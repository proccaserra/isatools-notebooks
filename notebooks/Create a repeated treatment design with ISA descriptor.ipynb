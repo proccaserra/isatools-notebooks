{
 "cells": [
  {
   "cell_type": "markdown",
   "metadata": {},
   "source": [
    "# Create a repeated treatment design with ISA descriptor\n",
    "\n",
    "This example creates ISA descriptor for study with sequential treatments organized in an arm. This shows how to use objects from the isatools.create component in a granular fashion. It creates each element of the arm at a time.\n",
    "Finally, the study design plan is shown by serializing the ISA Model content intermediate design_ISA-JSON."
   ]
  },
  {
   "cell_type": "markdown",
   "metadata": {},
   "source": [
    "## Study metadata"
   ]
  },
  {
   "cell_type": "code",
   "execution_count": 1,
   "metadata": {},
   "outputs": [
    {
     "data": {
      "application/vnd.jupyter.widget-view+json": {
       "model_id": "ed9e22c51e8349bda532be6f8c31cbf8",
       "version_major": 2,
       "version_minor": 0
      },
      "text/plain": [
       "VBox(children=(Text(value='S-Xover-1', description='Identifier: S-Xover-1', placeholder='e.g. S-Xover1'), Text…"
      ]
     },
     "metadata": {},
     "output_type": "display_data"
    }
   ],
   "source": [
    "from ipywidgets import RadioButtons, VBox, HBox, Layout, Label, Text, Textarea, DatePicker\n",
    "import datetime\n",
    "\n",
    "from isatools.model import *\n",
    "\n",
    "\n",
    "\n",
    "identifier = Text(\n",
    "        value='S-Xover-1',\n",
    "        placeholder='e.g. S-Xover1',\n",
    "        description='Identifier: S-Xover-1',\n",
    "        disabled=False\n",
    "    )\n",
    "title = Text(\n",
    "        value='My Simple ISA Study',\n",
    "        placeholder='e.g. My Study title',\n",
    "        description='Title:',\n",
    "        disabled=False\n",
    "    )\n",
    "description = Textarea(\n",
    "    value=\"We could alternatively use the class constructor's parameters to set some default \" \\\n",
    "          \"values at the time of creation, however we want to demonstrate how to use the \" \\\n",
    "          \"object's instance variables to set values.\",\n",
    "    placeholder='Type something',\n",
    "    description='Description:',\n",
    "    disabled=False\n",
    ")\n",
    "sub_date = DatePicker(description=\"Submission date:\", value=datetime.datetime.today())\n",
    "release_date = DatePicker(description=\"Public release date:\", value=datetime.datetime.today())\n",
    "VBox([identifier,\n",
    "      title,\n",
    "      description,\n",
    "      sub_date,\n",
    "      release_date])"
   ]
  },
  {
   "cell_type": "code",
   "execution_count": 2,
   "metadata": {},
   "outputs": [
    {
     "data": {
      "text/plain": [
       "isatools.model.Investigation(identifier='', filename='', title='', submission_date='', public_release_date='', ontology_source_references=[], publications=[], contacts=[], studies=[isatools.model.Study(filename='s_study_xover.txt', identifier='S-Xover-1', title='My Simple ISA Study', description='We could alternatively use the class constructor's parameters to set some default values at the time of creation, however we want to demonstrate how to use the object's instance variables to set values.', submission_date='2019-02-04 14:19:02.186502', public_release_date='2019-02-04 14:19:02.192057', contacts=[], design_descriptors=[], publications=[], factors=[], protocols=[isatools.model.Protocol(name='sample collection', protocol_type=isatools.model.OntologyAnnotation(term='', term_source=None, term_accession='', comments=[]), uri='', version='', parameters=[], components=[], comments=[])], assays=[], sources=[isatools.model.Source(name='source1', characteristics=[], comments=[])], samples=[isatools.model.Sample(name='sample1', characteristics=[], factor_values=[], derives_from=[], comments=[])], process_sequence=[<isatools.model.Process object at 0x1129b6710>], other_material=[], characteristic_categories=[], comments=[], units=[])], comments=[])"
      ]
     },
     "execution_count": 2,
     "metadata": {},
     "output_type": "execute_result"
    }
   ],
   "source": [
    "investigation = Investigation()\n",
    "study = Study(filename=\"s_study_xover.txt\")\n",
    "study.identifier = identifier.value\n",
    "study.title = title.value\n",
    "study.description = description.value\n",
    "study.submission_date = str(sub_date.value)\n",
    "study.public_release_date = str(release_date.value)\n",
    "study.sources = [Source(name=\"source1\")]\n",
    "study.samples = [Sample(name=\"sample1\")]\n",
    "study.protocols = [Protocol(name=\"sample collection\")]\n",
    "study.process_sequence = [Process(executes_protocol=study.protocols[-1], inputs=[study.sources[-1]], outputs=[study.samples[-1]])]\n",
    "investigation.studies = [study]\n",
    "investigation"
   ]
  },
  {
   "cell_type": "code",
   "execution_count": 3,
   "metadata": {},
   "outputs": [
    {
     "name": "stdout",
     "output_type": "stream",
     "text": [
      "/var/folders/y4/bjf0rxnj3g5d4zksdrq74j700000gn/T/tmppyzjoye1/i_investigation.txt\n",
      "ONTOLOGY SOURCE REFERENCE\n",
      "Term Source Name\n",
      "Term Source File\n",
      "Term Source Version\n",
      "Term Source Description\n",
      "INVESTIGATION\n",
      "Investigation Identifier\t\n",
      "Investigation Title\t\n",
      "Investigation Description\t\n",
      "Investigation Submission Date\t\n",
      "Investigation Public Release Date\t\n",
      "INVESTIGATION PUBLICATIONS\n",
      "Investigation PubMed ID\n",
      "Investigation Publication DOI\n",
      "Investigation Publication Author List\n",
      "Investigation Publication Title\n",
      "Investigation Publication Status\n",
      "Investigation Publication Status Term Accession Number\n",
      "Investigation Publication Status Term Source REF\n",
      "INVESTIGATION CONTACTS\n",
      "Investigation Person Last Name\n",
      "Investigation Person First Name\n",
      "Investigation Person Mid Initials\n",
      "Investigation Person Email\n",
      "Investigation Person Phone\n",
      "Investigation Person Fax\n",
      "Investigation Person Address\n",
      "Investigation Person Affiliation\n",
      "Investigation Person Roles\n",
      "Investigation Person Roles Term Accession Number\n",
      "Investigation Person Roles Term Source REF\n",
      "STUDY\n",
      "Study Identifier\tS-Xover-1\n",
      "Study Title\tMy Simple ISA Study\n",
      "Study Description\tWe could alternatively use the class constructor's parameters to set some default values at the time of creation, however we want to demonstrate how to use the object's instance variables to set values.\n",
      "Study Submission Date\t2019-02-04 14:19:02.186502\n",
      "Study Public Release Date\t2019-02-04 14:19:02.192057\n",
      "Study File Name\ts_study_xover.txt\n",
      "STUDY DESIGN DESCRIPTORS\n",
      "Study Design Type\n",
      "Study Design Type Term Accession Number\n",
      "Study Design Type Term Source REF\n",
      "STUDY PUBLICATIONS\n",
      "Study PubMed ID\n",
      "Study Publication DOI\n",
      "Study Publication Author List\n",
      "Study Publication Title\n",
      "Study Publication Status\n",
      "Study Publication Status Term Accession Number\n",
      "Study Publication Status Term Source REF\n",
      "STUDY FACTORS\n",
      "Study Factor Name\n",
      "Study Factor Type\n",
      "Study Factor Type Term Accession Number\n",
      "Study Factor Type Term Source REF\n",
      "STUDY ASSAYS\n",
      "Study Assay File Name\n",
      "Study Assay Measurement Type\n",
      "Study Assay Measurement Type Term Accession Number\n",
      "Study Assay Measurement Type Term Source REF\n",
      "Study Assay Technology Type\n",
      "Study Assay Technology Type Term Accession Number\n",
      "Study Assay Technology Type Term Source REF\n",
      "Study Assay Technology Platform\n",
      "STUDY PROTOCOLS\n",
      "Study Protocol Name\tsample collection\n",
      "Study Protocol Type\t\n",
      "Study Protocol Type Term Accession Number\t\n",
      "Study Protocol Type Term Source REF\t\n",
      "Study Protocol Description\t\n",
      "Study Protocol URI\t\n",
      "Study Protocol Version\t\n",
      "Study Protocol Parameters Name\t\n",
      "Study Protocol Parameters Name Term Accession Number\t\n",
      "Study Protocol Parameters Name Term Source REF\t\n",
      "Study Protocol Components Name\t\n",
      "Study Protocol Components Type\t\n",
      "Study Protocol Components Type Term Accession Number\t\n",
      "Study Protocol Components Type Term Source REF\t\n",
      "STUDY CONTACTS\n",
      "Study Person Last Name\n",
      "Study Person First Name\n",
      "Study Person Mid Initials\n",
      "Study Person Email\n",
      "Study Person Phone\n",
      "Study Person Fax\n",
      "Study Person Address\n",
      "Study Person Affiliation\n",
      "Study Person Roles\n",
      "Study Person Roles Term Accession Number\n",
      "Study Person Roles Term Source REF\n",
      "--------\n",
      "/var/folders/y4/bjf0rxnj3g5d4zksdrq74j700000gn/T/tmppyzjoye1/s_study_xover.txt\n",
      "Source Name\tProtocol REF\tSample Name\n",
      "source1\tsample collection\tsample1\n",
      "\n"
     ]
    }
   ],
   "source": [
    "from isatools.isatab import dumps\n",
    "print(dumps(investigation))"
   ]
  },
  {
   "cell_type": "code",
   "execution_count": 4,
   "metadata": {},
   "outputs": [
    {
     "name": "stdout",
     "output_type": "stream",
     "text": [
      "{\n",
      "    \"comments\": [],\n",
      "    \"description\": \"\",\n",
      "    \"identifier\": \"\",\n",
      "    \"ontologySourceReferences\": [],\n",
      "    \"people\": [],\n",
      "    \"publicReleaseDate\": \"\",\n",
      "    \"publications\": [],\n",
      "    \"studies\": [\n",
      "        {\n",
      "            \"assays\": [],\n",
      "            \"characteristicCategories\": [],\n",
      "            \"comments\": [],\n",
      "            \"description\": \"We could alternatively use the class constructor's parameters to set some default values at the time of creation, however we want to demonstrate how to use the object's instance variables to set values.\",\n",
      "            \"factors\": [],\n",
      "            \"filename\": \"s_study_xover.txt\",\n",
      "            \"identifier\": \"S-Xover-1\",\n",
      "            \"materials\": {\n",
      "                \"otherMaterials\": [],\n",
      "                \"samples\": [\n",
      "                    {\n",
      "                        \"@id\": \"#sample/4607141368\",\n",
      "                        \"characteristics\": [],\n",
      "                        \"factorValues\": [],\n",
      "                        \"name\": \"sample1\"\n",
      "                    }\n",
      "                ],\n",
      "                \"sources\": [\n",
      "                    {\n",
      "                        \"@id\": \"#source/4607141536\",\n",
      "                        \"characteristics\": [],\n",
      "                        \"name\": \"source1\"\n",
      "                    }\n",
      "                ]\n",
      "            },\n",
      "            \"people\": [],\n",
      "            \"processSequence\": [\n",
      "                {\n",
      "                    \"@id\": \"#process/4607141648\",\n",
      "                    \"comments\": [],\n",
      "                    \"date\": \"\",\n",
      "                    \"executesProtocol\": {\n",
      "                        \"@id\": \"#4607141592\"\n",
      "                    },\n",
      "                    \"inputs\": [\n",
      "                        {\n",
      "                            \"@id\": \"#source/4607141536\"\n",
      "                        }\n",
      "                    ],\n",
      "                    \"name\": \"\",\n",
      "                    \"outputs\": [\n",
      "                        {\n",
      "                            \"@id\": \"#sample/4607141368\"\n",
      "                        }\n",
      "                    ],\n",
      "                    \"parameterValues\": [],\n",
      "                    \"performer\": \"\"\n",
      "                }\n",
      "            ],\n",
      "            \"protocols\": [\n",
      "                {\n",
      "                    \"@id\": \"#4607141592\",\n",
      "                    \"comments\": [],\n",
      "                    \"components\": [],\n",
      "                    \"description\": \"\",\n",
      "                    \"name\": \"sample collection\",\n",
      "                    \"parameters\": [],\n",
      "                    \"protocolType\": {\n",
      "                        \"@id\": \"#4607141424\",\n",
      "                        \"annotationValue\": \"\",\n",
      "                        \"termAccession\": \"\",\n",
      "                        \"termSource\": \"\"\n",
      "                    },\n",
      "                    \"uri\": \"\",\n",
      "                    \"version\": \"\"\n",
      "                }\n",
      "            ],\n",
      "            \"publicReleaseDate\": \"2019-02-04 14:19:02.192057\",\n",
      "            \"publications\": [],\n",
      "            \"studyDesignDescriptors\": [],\n",
      "            \"submissionDate\": \"2019-02-04 14:19:02.186502\",\n",
      "            \"title\": \"My Simple ISA Study\",\n",
      "            \"unitCategories\": []\n",
      "        }\n",
      "    ],\n",
      "    \"submissionDate\": \"\",\n",
      "    \"title\": \"\"\n",
      "}\n"
     ]
    }
   ],
   "source": [
    "import json\n",
    "from isatools.isajson import ISAJSONEncoder\n",
    "print(json.dumps(investigation, cls=ISAJSONEncoder, sort_keys=True, indent=4, separators=(',', ': ')))"
   ]
  },
  {
   "cell_type": "code",
   "execution_count": 5,
   "metadata": {},
   "outputs": [],
   "source": [
    "from isatools.create.models import * \n"
   ]
  },
  {
   "cell_type": "code",
   "execution_count": 6,
   "metadata": {},
   "outputs": [],
   "source": [
    "# Creation of the first ISA element and setting its type\n",
    "nte1 = NonTreatment(element_type='screen')\n",
    "#print(nte1)"
   ]
  },
  {
   "cell_type": "code",
   "execution_count": 7,
   "metadata": {},
   "outputs": [],
   "source": [
    "te1 = Treatment()\n",
    "#print(te1)"
   ]
  },
  {
   "cell_type": "code",
   "execution_count": 8,
   "metadata": {},
   "outputs": [],
   "source": [
    "te1.type='biological intervention'\n",
    "#print(te1)"
   ]
  },
  {
   "cell_type": "code",
   "execution_count": 9,
   "metadata": {},
   "outputs": [],
   "source": [
    "#defining the first treatment as a vector of ISA factor values:\n",
    "f1 = StudyFactor(name='virus')\n",
    "f1v = FactorValue(factor_name=f1, value=\"hsv1\")\n",
    "f2 = StudyFactor(name='dose')\n",
    "f2v = FactorValue(factor_name=f1, value='high dose')\n",
    "f3 = StudyFactor(name='time post infection')\n",
    "f3v = FactorValue(factor_name=f3, value='2', unit='hr')\n"
   ]
  },
  {
   "cell_type": "code",
   "execution_count": 10,
   "metadata": {},
   "outputs": [],
   "source": [
    "#assigning the factor values declared above to the ISA treatment element\n",
    "te1.factor_values = [f1v,f2v,f3v]\n"
   ]
  },
  {
   "cell_type": "code",
   "execution_count": 11,
   "metadata": {},
   "outputs": [
    {
     "name": "stdout",
     "output_type": "stream",
     "text": [
      "isatools.create.models.Treatment(type=biological intervention, factor_values=[isatools.model.FactorValue(factor_name=isatools.model.StudyFactor(name='time post infection', factor_type=isatools.model.OntologyAnnotation(term='', term_source=None, term_accession='', comments=[]), comments=[]), value='2', unit='hr'), isatools.model.FactorValue(factor_name=isatools.model.StudyFactor(name='virus', factor_type=isatools.model.OntologyAnnotation(term='', term_source=None, term_accession='', comments=[]), comments=[]), value='high dose', unit=None), isatools.model.FactorValue(factor_name=isatools.model.StudyFactor(name='virus', factor_type=isatools.model.OntologyAnnotation(term='', term_source=None, term_accession='', comments=[]), comments=[]), value='hsv1', unit=None)]\n"
     ]
    }
   ],
   "source": [
    "print(te1)"
   ]
  },
  {
   "cell_type": "code",
   "execution_count": 12,
   "metadata": {},
   "outputs": [
    {
     "name": "stdout",
     "output_type": "stream",
     "text": [
      "isatools.create.models.Treatment(type=chemical intervention, factor_values=[isatools.model.FactorValue(factor_name=isatools.model.StudyFactor(name='antiviral', factor_type=isatools.model.OntologyAnnotation(term='', term_source=None, term_accession='', comments=[]), comments=[]), value='hsvflumab', unit=None), isatools.model.FactorValue(factor_name=isatools.model.StudyFactor(name='dose', factor_type=isatools.model.OntologyAnnotation(term='', term_source=None, term_accession='', comments=[]), comments=[]), value='10', unit='mg/kg/day'), isatools.model.FactorValue(factor_name=isatools.model.StudyFactor(name='treatment duration', factor_type=isatools.model.OntologyAnnotation(term='', term_source=None, term_accession='', comments=[]), comments=[]), value='2', unit='weeks')]\n"
     ]
    }
   ],
   "source": [
    "te2 = Treatment()\n",
    "te2.type = 'chemical intervention'\n",
    "antivir = StudyFactor(name='antiviral')\n",
    "antivirv = FactorValue(factor_name=antivir, value='hsvflumab')\n",
    "intensity = StudyFactor(name='dose')\n",
    "intensityv= FactorValue(factor_name=intensity, value = '10', unit='mg/kg/day')\n",
    "duration =  StudyFactor(name = 'treatment duration')\n",
    "durationv = FactorValue(factor_name=duration, value='2',unit ='weeks')\n",
    "te2.factor_values = [antivirv,intensityv,durationv]\n",
    "print(te2)\n",
    "                        \n",
    "                        "
   ]
  },
  {
   "cell_type": "code",
   "execution_count": 13,
   "metadata": {},
   "outputs": [],
   "source": [
    "# Creation of another ISA element, which is not a Treatment element\n",
    "nte2 = NonTreatment()\n",
    "# print(nte2)"
   ]
  },
  {
   "cell_type": "code",
   "execution_count": 14,
   "metadata": {},
   "outputs": [],
   "source": [
    "# setting its type by relying on the keys defined for the object\n",
    "nte2.type=RUN_IN\n",
    "#print(nte2)"
   ]
  },
  {
   "cell_type": "code",
   "execution_count": 15,
   "metadata": {},
   "outputs": [],
   "source": [
    "# changing the type of the ISA non treatment element using a string (note: the string should match exactly the predefined values)\n",
    "nte2.type = 'washout'\n",
    "#print(nte2)"
   ]
  },
  {
   "cell_type": "code",
   "execution_count": 16,
   "metadata": {},
   "outputs": [],
   "source": [
    "# setting the factor values associated with 'default' DURATION Factor associated with such elements\n",
    "nte2.duration.value=\"2\"\n",
    "nte2.duration.unit=\"weeks\""
   ]
  },
  {
   "cell_type": "code",
   "execution_count": 17,
   "metadata": {},
   "outputs": [
    {
     "name": "stdout",
     "output_type": "stream",
     "text": [
      "isatools.create.models.NonTreatment(type='washout', duration=isatools.model.FactorValue(factor_name=isatools.model.StudyFactor(name='DURATION', factor_type=isatools.model.OntologyAnnotation(term='time', term_source=None, term_accession='', comments=[]), comments=[]), value='2', unit='weeks'))\n"
     ]
    }
   ],
   "source": [
    "print(nte2)"
   ]
  },
  {
   "cell_type": "code",
   "execution_count": 18,
   "metadata": {},
   "outputs": [
    {
     "name": "stdout",
     "output_type": "stream",
     "text": [
      "isatools.create.models.NonTreatment(type='follow-up', duration=isatools.model.FactorValue(factor_name=isatools.model.StudyFactor(name='DURATION', factor_type=isatools.model.OntologyAnnotation(term='time', term_source=None, term_accession='', comments=[]), comments=[]), value='4', unit='months'))\n"
     ]
    }
   ],
   "source": [
    "nte3 = NonTreatment(element_type=FOLLOW_UP)\n",
    "nte3.duration.value = '4'\n",
    "nte3.duration.unit = 'months'\n",
    "print(nte3)"
   ]
  },
  {
   "cell_type": "code",
   "execution_count": 19,
   "metadata": {},
   "outputs": [],
   "source": [
    "# For each ISA element, creation of the associated container, known as an ISA Cell. In this example, each element is hosted by a single Cell\n",
    "# However, for complex design, a cell may contain more than one element).\n",
    "st_cl1= StudyCell(name=\"st_cl1\", elements=[nte1])\n",
    "st_cl2= StudyCell(name=\"st_cl2\",elements=[te1])\n",
    "st_cl3= StudyCell(name=\"st_cl3\",elements=[nte2])\n",
    "st_cl4= StudyCell(name=\"st_cl4\",elements=[te2])\n",
    "st_cl5= StudyCell(name=\"st_cl5\",elements=[nte3])\n",
    "\n"
   ]
  },
  {
   "cell_type": "code",
   "execution_count": 20,
   "metadata": {},
   "outputs": [
    {
     "name": "stdout",
     "output_type": "stream",
     "text": [
      "isatools.create.models.StudyArm(name=study arm one as test, group_size=20, cells=[], sample_assay_plans=[])\n"
     ]
    }
   ],
   "source": [
    "# Creation of an ISA Study Arm and setting the number of subjects associated to that sequence of cells.\n",
    "arm1 = StudyArm(name='study arm one as test')\n",
    "arm1.group_size=20\n",
    "print(arm1)"
   ]
  },
  {
   "cell_type": "code",
   "execution_count": 21,
   "metadata": {},
   "outputs": [],
   "source": [
    "# Declarationg of an ISA Sample Assay Plan, which defines which specimen are to be collected and which assays to be used\n",
    "sap1 = SampleAssayPlan(name='sample_assay_plan1')\n"
   ]
  },
  {
   "cell_type": "code",
   "execution_count": 22,
   "metadata": {},
   "outputs": [],
   "source": [
    "# specifying which specimen\n",
    "sap1.add_sample_type('liver')"
   ]
  },
  {
   "cell_type": "code",
   "execution_count": 23,
   "metadata": {},
   "outputs": [],
   "source": [
    "# specifying how many times each specimen is supposed to be collected\n",
    "sap1.add_sample_plan_record('liver',3)"
   ]
  },
  {
   "cell_type": "code",
   "execution_count": 24,
   "metadata": {},
   "outputs": [],
   "source": [
    "# Declaration of an ISA assay and linking specimen type and data acquisition plan for this assay\n",
    "assay_type1 = AssayType(measurement_type='metabolite profiling', technology_type='mass spectrometry')\n",
    "sap1.add_assay_type(assay_type1)\n",
    "sap1.add_assay_plan_record('liver',assay_type1)"
   ]
  },
  {
   "cell_type": "code",
   "execution_count": 25,
   "metadata": {},
   "outputs": [
    {
     "name": "stdout",
     "output_type": "stream",
     "text": [
      "isatools.create.models.StudyArm(name=study arm one as test, group_size=20, cells=[isatools.create.models.StudyCell(name=st_cl1, elements=[isatools.create.models.NonTreatment(type='screen', duration=isatools.model.FactorValue(factor_name=isatools.model.StudyFactor(name='DURATION', factor_type=isatools.model.OntologyAnnotation(term='time', term_source=None, term_accession='', comments=[]), comments=[]), value=0.0, unit=None))], )], sample_assay_plans=[isatools.create.models.SampleAssayPlan(name=sample_assay_plan1, sample_plan={isatools.model.Characteristic(category=isatools.model.OntologyAnnotation(term='organism part', term_source=None, term_accession='', comments=[]), value=isatools.model.OntologyAnnotation(term='liver', term_source=None, term_accession='', comments=[]), unit=None, comments=[])}, assay_plan={(isatools.model.Characteristic(category=isatools.model.OntologyAnnotation(term='organism part', term_source=None, term_accession='', comments=[]), value=isatools.model.OntologyAnnotation(term='liver', term_source=None, term_accession='', comments=[]), unit=None, comments=[]), AssayType(measurement_type=isatools.model.OntologyAnnotation(term='metabolite profiling', term_source=None, term_accession='', comments=[]), technology_type=isatools.model.OntologyAnnotation(term='mass spectrometry', term_source=None, term_accession='', comments=[]), topology_modifiers=None))}, sample_qc_plan=set())])\n"
     ]
    }
   ],
   "source": [
    "# Now starting to build an ISA Study Design Arm by adding the first set of ISA Cell and setting the Sample Assay Plan\n",
    "arm1.add_item_to_arm_map(st_cl1,sap1)\n",
    "print(arm1)"
   ]
  },
  {
   "cell_type": "code",
   "execution_count": 26,
   "metadata": {},
   "outputs": [],
   "source": [
    "# Now expanding the arm by adding a new cell, which uses the same Sample Assay Plan as the one used in Cell #1.\n",
    "# Of course, the Sample Assay Plan for this new cell could be different. It would have to be to built as shown before.\n",
    "arm1.add_item_to_arm_map(st_cl2,sap1)"
   ]
  },
  {
   "cell_type": "code",
   "execution_count": 27,
   "metadata": {},
   "outputs": [],
   "source": [
    "# Adding the last section of the Arm, with a cell which also uses the same sample assay plan.\n",
    "arm1.add_item_to_arm_map(st_cl3,sap1)\n",
    "arm1.add_item_to_arm_map(st_cl4,sap1)\n",
    "arm1.add_item_to_arm_map(st_cl5,sap1)"
   ]
  },
  {
   "cell_type": "code",
   "execution_count": 28,
   "metadata": {},
   "outputs": [],
   "source": [
    "arm2 = StudyArm(name='study arm TWO as test')\n",
    "arm2.group_size=40\n",
    "arm2.add_item_to_arm_map(st_cl1,sap1)\n",
    "arm2.add_item_to_arm_map(st_cl4,sap1)\n",
    "arm2.add_item_to_arm_map(st_cl3,sap1)\n",
    "arm2.add_item_to_arm_map(st_cl2,sap1)\n",
    "arm2.add_item_to_arm_map(st_cl5,sap1)"
   ]
  },
  {
   "cell_type": "code",
   "execution_count": 29,
   "metadata": {},
   "outputs": [
    {
     "name": "stdout",
     "output_type": "stream",
     "text": [
      "isatools.create.models.StudyDesign(name=trial design #1, study_arms=[])\n"
     ]
    }
   ],
   "source": [
    "# Creating an ISA Study Design object, which will receive the arms defined by the user.\n",
    "sd = StudyDesign(name='trial design #1')\n",
    "print(sd)"
   ]
  },
  {
   "cell_type": "code",
   "execution_count": 30,
   "metadata": {},
   "outputs": [
    {
     "name": "stdout",
     "output_type": "stream",
     "text": [
      "isatools.create.models.StudyDesign(name=trial design #1, study_arms=[isatools.create.models.StudyArm(name=study arm TWO as test, group_size=40, cells=[isatools.create.models.StudyCell(name=st_cl1, elements=[isatools.create.models.NonTreatment(type='screen', duration=isatools.model.FactorValue(factor_name=isatools.model.StudyFactor(name='DURATION', factor_type=isatools.model.OntologyAnnotation(term='time', term_source=None, term_accession='', comments=[]), comments=[]), value=0.0, unit=None))], ), isatools.create.models.StudyCell(name=st_cl4, elements=[isatools.create.models.Treatment(type=chemical intervention, factor_values=[isatools.model.FactorValue(factor_name=isatools.model.StudyFactor(name='antiviral', factor_type=isatools.model.OntologyAnnotation(term='', term_source=None, term_accession='', comments=[]), comments=[]), value='hsvflumab', unit=None), isatools.model.FactorValue(factor_name=isatools.model.StudyFactor(name='dose', factor_type=isatools.model.OntologyAnnotation(term='', term_source=None, term_accession='', comments=[]), comments=[]), value='10', unit='mg/kg/day'), isatools.model.FactorValue(factor_name=isatools.model.StudyFactor(name='treatment duration', factor_type=isatools.model.OntologyAnnotation(term='', term_source=None, term_accession='', comments=[]), comments=[]), value='2', unit='weeks')]], ), isatools.create.models.StudyCell(name=st_cl3, elements=[isatools.create.models.NonTreatment(type='washout', duration=isatools.model.FactorValue(factor_name=isatools.model.StudyFactor(name='DURATION', factor_type=isatools.model.OntologyAnnotation(term='time', term_source=None, term_accession='', comments=[]), comments=[]), value='2', unit='weeks'))], ), isatools.create.models.StudyCell(name=st_cl2, elements=[isatools.create.models.Treatment(type=biological intervention, factor_values=[isatools.model.FactorValue(factor_name=isatools.model.StudyFactor(name='time post infection', factor_type=isatools.model.OntologyAnnotation(term='', term_source=None, term_accession='', comments=[]), comments=[]), value='2', unit='hr'), isatools.model.FactorValue(factor_name=isatools.model.StudyFactor(name='virus', factor_type=isatools.model.OntologyAnnotation(term='', term_source=None, term_accession='', comments=[]), comments=[]), value='high dose', unit=None), isatools.model.FactorValue(factor_name=isatools.model.StudyFactor(name='virus', factor_type=isatools.model.OntologyAnnotation(term='', term_source=None, term_accession='', comments=[]), comments=[]), value='hsv1', unit=None)]], ), isatools.create.models.StudyCell(name=st_cl5, elements=[isatools.create.models.NonTreatment(type='follow-up', duration=isatools.model.FactorValue(factor_name=isatools.model.StudyFactor(name='DURATION', factor_type=isatools.model.OntologyAnnotation(term='time', term_source=None, term_accession='', comments=[]), comments=[]), value='4', unit='months'))], )], sample_assay_plans=[isatools.create.models.SampleAssayPlan(name=sample_assay_plan1, sample_plan={isatools.model.Characteristic(category=isatools.model.OntologyAnnotation(term='organism part', term_source=None, term_accession='', comments=[]), value=isatools.model.OntologyAnnotation(term='liver', term_source=None, term_accession='', comments=[]), unit=None, comments=[])}, assay_plan={(isatools.model.Characteristic(category=isatools.model.OntologyAnnotation(term='organism part', term_source=None, term_accession='', comments=[]), value=isatools.model.OntologyAnnotation(term='liver', term_source=None, term_accession='', comments=[]), unit=None, comments=[]), AssayType(measurement_type=isatools.model.OntologyAnnotation(term='metabolite profiling', term_source=None, term_accession='', comments=[]), technology_type=isatools.model.OntologyAnnotation(term='mass spectrometry', term_source=None, term_accession='', comments=[]), topology_modifiers=None))}, sample_qc_plan=set()), isatools.create.models.SampleAssayPlan(name=sample_assay_plan1, sample_plan={isatools.model.Characteristic(category=isatools.model.OntologyAnnotation(term='organism part', term_source=None, term_accession='', comments=[]), value=isatools.model.OntologyAnnotation(term='liver', term_source=None, term_accession='', comments=[]), unit=None, comments=[])}, assay_plan={(isatools.model.Characteristic(category=isatools.model.OntologyAnnotation(term='organism part', term_source=None, term_accession='', comments=[]), value=isatools.model.OntologyAnnotation(term='liver', term_source=None, term_accession='', comments=[]), unit=None, comments=[]), AssayType(measurement_type=isatools.model.OntologyAnnotation(term='metabolite profiling', term_source=None, term_accession='', comments=[]), technology_type=isatools.model.OntologyAnnotation(term='mass spectrometry', term_source=None, term_accession='', comments=[]), topology_modifiers=None))}, sample_qc_plan=set()), isatools.create.models.SampleAssayPlan(name=sample_assay_plan1, sample_plan={isatools.model.Characteristic(category=isatools.model.OntologyAnnotation(term='organism part', term_source=None, term_accession='', comments=[]), value=isatools.model.OntologyAnnotation(term='liver', term_source=None, term_accession='', comments=[]), unit=None, comments=[])}, assay_plan={(isatools.model.Characteristic(category=isatools.model.OntologyAnnotation(term='organism part', term_source=None, term_accession='', comments=[]), value=isatools.model.OntologyAnnotation(term='liver', term_source=None, term_accession='', comments=[]), unit=None, comments=[]), AssayType(measurement_type=isatools.model.OntologyAnnotation(term='metabolite profiling', term_source=None, term_accession='', comments=[]), technology_type=isatools.model.OntologyAnnotation(term='mass spectrometry', term_source=None, term_accession='', comments=[]), topology_modifiers=None))}, sample_qc_plan=set()), isatools.create.models.SampleAssayPlan(name=sample_assay_plan1, sample_plan={isatools.model.Characteristic(category=isatools.model.OntologyAnnotation(term='organism part', term_source=None, term_accession='', comments=[]), value=isatools.model.OntologyAnnotation(term='liver', term_source=None, term_accession='', comments=[]), unit=None, comments=[])}, assay_plan={(isatools.model.Characteristic(category=isatools.model.OntologyAnnotation(term='organism part', term_source=None, term_accession='', comments=[]), value=isatools.model.OntologyAnnotation(term='liver', term_source=None, term_accession='', comments=[]), unit=None, comments=[]), AssayType(measurement_type=isatools.model.OntologyAnnotation(term='metabolite profiling', term_source=None, term_accession='', comments=[]), technology_type=isatools.model.OntologyAnnotation(term='mass spectrometry', term_source=None, term_accession='', comments=[]), topology_modifiers=None))}, sample_qc_plan=set()), isatools.create.models.SampleAssayPlan(name=sample_assay_plan1, sample_plan={isatools.model.Characteristic(category=isatools.model.OntologyAnnotation(term='organism part', term_source=None, term_accession='', comments=[]), value=isatools.model.OntologyAnnotation(term='liver', term_source=None, term_accession='', comments=[]), unit=None, comments=[])}, assay_plan={(isatools.model.Characteristic(category=isatools.model.OntologyAnnotation(term='organism part', term_source=None, term_accession='', comments=[]), value=isatools.model.OntologyAnnotation(term='liver', term_source=None, term_accession='', comments=[]), unit=None, comments=[]), AssayType(measurement_type=isatools.model.OntologyAnnotation(term='metabolite profiling', term_source=None, term_accession='', comments=[]), technology_type=isatools.model.OntologyAnnotation(term='mass spectrometry', term_source=None, term_accession='', comments=[]), topology_modifiers=None))}, sample_qc_plan=set())]), isatools.create.models.StudyArm(name=study arm one as test, group_size=20, cells=[isatools.create.models.StudyCell(name=st_cl1, elements=[isatools.create.models.NonTreatment(type='screen', duration=isatools.model.FactorValue(factor_name=isatools.model.StudyFactor(name='DURATION', factor_type=isatools.model.OntologyAnnotation(term='time', term_source=None, term_accession='', comments=[]), comments=[]), value=0.0, unit=None))], ), isatools.create.models.StudyCell(name=st_cl2, elements=[isatools.create.models.Treatment(type=biological intervention, factor_values=[isatools.model.FactorValue(factor_name=isatools.model.StudyFactor(name='time post infection', factor_type=isatools.model.OntologyAnnotation(term='', term_source=None, term_accession='', comments=[]), comments=[]), value='2', unit='hr'), isatools.model.FactorValue(factor_name=isatools.model.StudyFactor(name='virus', factor_type=isatools.model.OntologyAnnotation(term='', term_source=None, term_accession='', comments=[]), comments=[]), value='high dose', unit=None), isatools.model.FactorValue(factor_name=isatools.model.StudyFactor(name='virus', factor_type=isatools.model.OntologyAnnotation(term='', term_source=None, term_accession='', comments=[]), comments=[]), value='hsv1', unit=None)]], ), isatools.create.models.StudyCell(name=st_cl3, elements=[isatools.create.models.NonTreatment(type='washout', duration=isatools.model.FactorValue(factor_name=isatools.model.StudyFactor(name='DURATION', factor_type=isatools.model.OntologyAnnotation(term='time', term_source=None, term_accession='', comments=[]), comments=[]), value='2', unit='weeks'))], ), isatools.create.models.StudyCell(name=st_cl4, elements=[isatools.create.models.Treatment(type=chemical intervention, factor_values=[isatools.model.FactorValue(factor_name=isatools.model.StudyFactor(name='antiviral', factor_type=isatools.model.OntologyAnnotation(term='', term_source=None, term_accession='', comments=[]), comments=[]), value='hsvflumab', unit=None), isatools.model.FactorValue(factor_name=isatools.model.StudyFactor(name='dose', factor_type=isatools.model.OntologyAnnotation(term='', term_source=None, term_accession='', comments=[]), comments=[]), value='10', unit='mg/kg/day'), isatools.model.FactorValue(factor_name=isatools.model.StudyFactor(name='treatment duration', factor_type=isatools.model.OntologyAnnotation(term='', term_source=None, term_accession='', comments=[]), comments=[]), value='2', unit='weeks')]], ), isatools.create.models.StudyCell(name=st_cl5, elements=[isatools.create.models.NonTreatment(type='follow-up', duration=isatools.model.FactorValue(factor_name=isatools.model.StudyFactor(name='DURATION', factor_type=isatools.model.OntologyAnnotation(term='time', term_source=None, term_accession='', comments=[]), comments=[]), value='4', unit='months'))], )], sample_assay_plans=[isatools.create.models.SampleAssayPlan(name=sample_assay_plan1, sample_plan={isatools.model.Characteristic(category=isatools.model.OntologyAnnotation(term='organism part', term_source=None, term_accession='', comments=[]), value=isatools.model.OntologyAnnotation(term='liver', term_source=None, term_accession='', comments=[]), unit=None, comments=[])}, assay_plan={(isatools.model.Characteristic(category=isatools.model.OntologyAnnotation(term='organism part', term_source=None, term_accession='', comments=[]), value=isatools.model.OntologyAnnotation(term='liver', term_source=None, term_accession='', comments=[]), unit=None, comments=[]), AssayType(measurement_type=isatools.model.OntologyAnnotation(term='metabolite profiling', term_source=None, term_accession='', comments=[]), technology_type=isatools.model.OntologyAnnotation(term='mass spectrometry', term_source=None, term_accession='', comments=[]), topology_modifiers=None))}, sample_qc_plan=set()), isatools.create.models.SampleAssayPlan(name=sample_assay_plan1, sample_plan={isatools.model.Characteristic(category=isatools.model.OntologyAnnotation(term='organism part', term_source=None, term_accession='', comments=[]), value=isatools.model.OntologyAnnotation(term='liver', term_source=None, term_accession='', comments=[]), unit=None, comments=[])}, assay_plan={(isatools.model.Characteristic(category=isatools.model.OntologyAnnotation(term='organism part', term_source=None, term_accession='', comments=[]), value=isatools.model.OntologyAnnotation(term='liver', term_source=None, term_accession='', comments=[]), unit=None, comments=[]), AssayType(measurement_type=isatools.model.OntologyAnnotation(term='metabolite profiling', term_source=None, term_accession='', comments=[]), technology_type=isatools.model.OntologyAnnotation(term='mass spectrometry', term_source=None, term_accession='', comments=[]), topology_modifiers=None))}, sample_qc_plan=set()), isatools.create.models.SampleAssayPlan(name=sample_assay_plan1, sample_plan={isatools.model.Characteristic(category=isatools.model.OntologyAnnotation(term='organism part', term_source=None, term_accession='', comments=[]), value=isatools.model.OntologyAnnotation(term='liver', term_source=None, term_accession='', comments=[]), unit=None, comments=[])}, assay_plan={(isatools.model.Characteristic(category=isatools.model.OntologyAnnotation(term='organism part', term_source=None, term_accession='', comments=[]), value=isatools.model.OntologyAnnotation(term='liver', term_source=None, term_accession='', comments=[]), unit=None, comments=[]), AssayType(measurement_type=isatools.model.OntologyAnnotation(term='metabolite profiling', term_source=None, term_accession='', comments=[]), technology_type=isatools.model.OntologyAnnotation(term='mass spectrometry', term_source=None, term_accession='', comments=[]), topology_modifiers=None))}, sample_qc_plan=set()), isatools.create.models.SampleAssayPlan(name=sample_assay_plan1, sample_plan={isatools.model.Characteristic(category=isatools.model.OntologyAnnotation(term='organism part', term_source=None, term_accession='', comments=[]), value=isatools.model.OntologyAnnotation(term='liver', term_source=None, term_accession='', comments=[]), unit=None, comments=[])}, assay_plan={(isatools.model.Characteristic(category=isatools.model.OntologyAnnotation(term='organism part', term_source=None, term_accession='', comments=[]), value=isatools.model.OntologyAnnotation(term='liver', term_source=None, term_accession='', comments=[]), unit=None, comments=[]), AssayType(measurement_type=isatools.model.OntologyAnnotation(term='metabolite profiling', term_source=None, term_accession='', comments=[]), technology_type=isatools.model.OntologyAnnotation(term='mass spectrometry', term_source=None, term_accession='', comments=[]), topology_modifiers=None))}, sample_qc_plan=set()), isatools.create.models.SampleAssayPlan(name=sample_assay_plan1, sample_plan={isatools.model.Characteristic(category=isatools.model.OntologyAnnotation(term='organism part', term_source=None, term_accession='', comments=[]), value=isatools.model.OntologyAnnotation(term='liver', term_source=None, term_accession='', comments=[]), unit=None, comments=[])}, assay_plan={(isatools.model.Characteristic(category=isatools.model.OntologyAnnotation(term='organism part', term_source=None, term_accession='', comments=[]), value=isatools.model.OntologyAnnotation(term='liver', term_source=None, term_accession='', comments=[]), unit=None, comments=[]), AssayType(measurement_type=isatools.model.OntologyAnnotation(term='metabolite profiling', term_source=None, term_accession='', comments=[]), technology_type=isatools.model.OntologyAnnotation(term='mass spectrometry', term_source=None, term_accession='', comments=[]), topology_modifiers=None))}, sample_qc_plan=set())])])\n"
     ]
    }
   ],
   "source": [
    "# Adding a study arm to the study design object.\n",
    "sd.add_study_arm(arm1)\n",
    "sd.add_study_arm(arm2)\n",
    "print(sd)"
   ]
  },
  {
   "cell_type": "code",
   "execution_count": 31,
   "metadata": {},
   "outputs": [
    {
     "name": "stdout",
     "output_type": "stream",
     "text": [
      "Now appending cell st_cl1\n",
      "Now appending sample_assay_plan sample_assay_plan1\n",
      "Now appending cell st_cl4\n",
      "Now appending cell st_cl3\n",
      "Now appending cell st_cl2\n",
      "Now appending cell st_cl5\n",
      "Mappings: [['st_cl1', 'sample_assay_plan1'], ['st_cl4', 'sample_assay_plan1'], ['st_cl3', 'sample_assay_plan1'], ['st_cl2', 'sample_assay_plan1'], ['st_cl5', 'sample_assay_plan1']]\n",
      "Now appending cell st_cl1\n",
      "Now appending sample_assay_plan sample_assay_plan1\n",
      "Now appending cell st_cl2\n",
      "Now appending cell st_cl3\n",
      "Now appending cell st_cl4\n",
      "Now appending cell st_cl5\n",
      "Mappings: [['st_cl1', 'sample_assay_plan1'], ['st_cl2', 'sample_assay_plan1'], ['st_cl3', 'sample_assay_plan1'], ['st_cl4', 'sample_assay_plan1'], ['st_cl5', 'sample_assay_plan1']]\n",
      "{'study arm TWO as test': {'cells': [{'name': 'st_cl1', 'elements': [{'__treatment': False, 'type': 'screen', 'factorValues': [{'factor': {'name': 'DURATION', 'type': {'term': 'time'}}, 'value': 0.0}]}]}, {'name': 'st_cl4', 'elements': [{'__treatment': True, 'type': 'chemical intervention', 'factorValues': [{'factor': {'name': 'antiviral', 'type': {'term': ''}}, 'value': 'hsvflumab'}, {'factor': {'name': 'treatment duration', 'type': {'term': ''}}, 'value': '2', 'unit': None}, {'factor': {'name': 'dose', 'type': {'term': ''}}, 'value': '10', 'unit': None}]}]}, {'name': 'st_cl3', 'elements': [{'__treatment': False, 'type': 'washout', 'factorValues': [{'factor': {'name': 'DURATION', 'type': {'term': 'time'}}, 'value': '2', 'unit': None}]}]}, {'name': 'st_cl2', 'elements': [{'__treatment': True, 'type': 'biological intervention', 'factorValues': [{'factor': {'name': 'virus', 'type': {'term': ''}}, 'value': 'high dose'}, {'factor': {'name': 'virus', 'type': {'term': ''}}, 'value': 'hsv1'}, {'factor': {'name': 'time post infection', 'type': {'term': ''}}, 'value': '2', 'unit': None}]}]}, {'name': 'st_cl5', 'elements': [{'__treatment': False, 'type': 'follow-up', 'factorValues': [{'factor': {'name': 'DURATION', 'type': {'term': 'time'}}, 'value': '4', 'unit': None}]}]}], 'sampleAssayPlans': [{'name': 'sample_assay_plan1', 'sample_types': ['liver'], 'assay_types': [{'measurement_type': 'metabolite profiling', 'technology_type': 'mass spectrometry', 'topology_modifiers': []}], 'sample_plan': [{'sample_type': 'liver', 'sampling_size': 3}], 'sample_qc_plan': [], 'assay_plan': [{'sample_type': 'liver', 'assay_type': {'measurement_type': 'metabolite profiling', 'technology_type': 'mass spectrometry', 'topology_modifiers': []}}]}], 'mappings': [['st_cl1', 'sample_assay_plan1'], ['st_cl4', 'sample_assay_plan1'], ['st_cl3', 'sample_assay_plan1'], ['st_cl2', 'sample_assay_plan1'], ['st_cl5', 'sample_assay_plan1']], 'name': 'study arm TWO as test', 'groupSize': 40}, 'study arm one as test': {'cells': [{'name': 'st_cl1', 'elements': [{'__treatment': False, 'type': 'screen', 'factorValues': [{'factor': {'name': 'DURATION', 'type': {'term': 'time'}}, 'value': 0.0}]}]}, {'name': 'st_cl2', 'elements': [{'__treatment': True, 'type': 'biological intervention', 'factorValues': [{'factor': {'name': 'virus', 'type': {'term': ''}}, 'value': 'high dose'}, {'factor': {'name': 'virus', 'type': {'term': ''}}, 'value': 'hsv1'}, {'factor': {'name': 'time post infection', 'type': {'term': ''}}, 'value': '2', 'unit': None}]}]}, {'name': 'st_cl3', 'elements': [{'__treatment': False, 'type': 'washout', 'factorValues': [{'factor': {'name': 'DURATION', 'type': {'term': 'time'}}, 'value': '2', 'unit': None}]}]}, {'name': 'st_cl4', 'elements': [{'__treatment': True, 'type': 'chemical intervention', 'factorValues': [{'factor': {'name': 'antiviral', 'type': {'term': ''}}, 'value': 'hsvflumab'}, {'factor': {'name': 'treatment duration', 'type': {'term': ''}}, 'value': '2', 'unit': None}, {'factor': {'name': 'dose', 'type': {'term': ''}}, 'value': '10', 'unit': None}]}]}, {'name': 'st_cl5', 'elements': [{'__treatment': False, 'type': 'follow-up', 'factorValues': [{'factor': {'name': 'DURATION', 'type': {'term': 'time'}}, 'value': '4', 'unit': None}]}]}], 'sampleAssayPlans': [{'name': 'sample_assay_plan1', 'sample_types': ['liver'], 'assay_types': [{'measurement_type': 'metabolite profiling', 'technology_type': 'mass spectrometry', 'topology_modifiers': []}], 'sample_plan': [{'sample_type': 'liver', 'sampling_size': 3}], 'sample_qc_plan': [], 'assay_plan': [{'sample_type': 'liver', 'assay_type': {'measurement_type': 'metabolite profiling', 'technology_type': 'mass spectrometry', 'topology_modifiers': []}}]}], 'mappings': [['st_cl1', 'sample_assay_plan1'], ['st_cl2', 'sample_assay_plan1'], ['st_cl3', 'sample_assay_plan1'], ['st_cl4', 'sample_assay_plan1'], ['st_cl5', 'sample_assay_plan1']], 'name': 'study arm one as test', 'groupSize': 20}}\n",
      "{\n",
      "    \"name\": \"trial design #1\",\n",
      "    \"studyArms\": {\n",
      "        \"study arm TWO as test\": {\n",
      "            \"cells\": [\n",
      "                {\n",
      "                    \"elements\": [\n",
      "                        {\n",
      "                            \"__treatment\": false,\n",
      "                            \"factorValues\": [\n",
      "                                {\n",
      "                                    \"factor\": {\n",
      "                                        \"name\": \"DURATION\",\n",
      "                                        \"type\": {\n",
      "                                            \"term\": \"time\"\n",
      "                                        }\n",
      "                                    },\n",
      "                                    \"value\": 0.0\n",
      "                                }\n",
      "                            ],\n",
      "                            \"type\": \"screen\"\n",
      "                        }\n",
      "                    ],\n",
      "                    \"name\": \"st_cl1\"\n",
      "                },\n",
      "                {\n",
      "                    \"elements\": [\n",
      "                        {\n",
      "                            \"__treatment\": true,\n",
      "                            \"factorValues\": [\n",
      "                                {\n",
      "                                    \"factor\": {\n",
      "                                        \"name\": \"antiviral\",\n",
      "                                        \"type\": {\n",
      "                                            \"term\": \"\"\n",
      "                                        }\n",
      "                                    },\n",
      "                                    \"value\": \"hsvflumab\"\n",
      "                                },\n",
      "                                {\n",
      "                                    \"factor\": {\n",
      "                                        \"name\": \"treatment duration\",\n",
      "                                        \"type\": {\n",
      "                                            \"term\": \"\"\n",
      "                                        }\n",
      "                                    },\n",
      "                                    \"unit\": null,\n",
      "                                    \"value\": \"2\"\n",
      "                                },\n",
      "                                {\n",
      "                                    \"factor\": {\n",
      "                                        \"name\": \"dose\",\n",
      "                                        \"type\": {\n",
      "                                            \"term\": \"\"\n",
      "                                        }\n",
      "                                    },\n",
      "                                    \"unit\": null,\n",
      "                                    \"value\": \"10\"\n",
      "                                }\n",
      "                            ],\n",
      "                            \"type\": \"chemical intervention\"\n",
      "                        }\n",
      "                    ],\n",
      "                    \"name\": \"st_cl4\"\n",
      "                },\n",
      "                {\n",
      "                    \"elements\": [\n",
      "                        {\n",
      "                            \"__treatment\": false,\n",
      "                            \"factorValues\": [\n",
      "                                {\n",
      "                                    \"factor\": {\n",
      "                                        \"name\": \"DURATION\",\n",
      "                                        \"type\": {\n",
      "                                            \"term\": \"time\"\n",
      "                                        }\n",
      "                                    },\n",
      "                                    \"unit\": null,\n",
      "                                    \"value\": \"2\"\n",
      "                                }\n",
      "                            ],\n",
      "                            \"type\": \"washout\"\n",
      "                        }\n",
      "                    ],\n",
      "                    \"name\": \"st_cl3\"\n",
      "                },\n",
      "                {\n",
      "                    \"elements\": [\n",
      "                        {\n",
      "                            \"__treatment\": true,\n",
      "                            \"factorValues\": [\n",
      "                                {\n",
      "                                    \"factor\": {\n",
      "                                        \"name\": \"virus\",\n",
      "                                        \"type\": {\n",
      "                                            \"term\": \"\"\n",
      "                                        }\n",
      "                                    },\n",
      "                                    \"value\": \"high dose\"\n",
      "                                },\n",
      "                                {\n",
      "                                    \"factor\": {\n",
      "                                        \"name\": \"virus\",\n",
      "                                        \"type\": {\n",
      "                                            \"term\": \"\"\n",
      "                                        }\n",
      "                                    },\n",
      "                                    \"value\": \"hsv1\"\n",
      "                                },\n",
      "                                {\n",
      "                                    \"factor\": {\n",
      "                                        \"name\": \"time post infection\",\n",
      "                                        \"type\": {\n",
      "                                            \"term\": \"\"\n",
      "                                        }\n",
      "                                    },\n",
      "                                    \"unit\": null,\n",
      "                                    \"value\": \"2\"\n",
      "                                }\n",
      "                            ],\n",
      "                            \"type\": \"biological intervention\"\n",
      "                        }\n",
      "                    ],\n",
      "                    \"name\": \"st_cl2\"\n",
      "                },\n",
      "                {\n",
      "                    \"elements\": [\n",
      "                        {\n",
      "                            \"__treatment\": false,\n",
      "                            \"factorValues\": [\n",
      "                                {\n",
      "                                    \"factor\": {\n",
      "                                        \"name\": \"DURATION\",\n",
      "                                        \"type\": {\n",
      "                                            \"term\": \"time\"\n",
      "                                        }\n",
      "                                    },\n",
      "                                    \"unit\": null,\n",
      "                                    \"value\": \"4\"\n",
      "                                }\n",
      "                            ],\n",
      "                            \"type\": \"follow-up\"\n",
      "                        }\n",
      "                    ],\n",
      "                    \"name\": \"st_cl5\"\n",
      "                }\n",
      "            ],\n",
      "            \"groupSize\": 40,\n",
      "            \"mappings\": [\n",
      "                [\n",
      "                    \"st_cl1\",\n",
      "                    \"sample_assay_plan1\"\n",
      "                ],\n",
      "                [\n",
      "                    \"st_cl4\",\n",
      "                    \"sample_assay_plan1\"\n",
      "                ],\n",
      "                [\n",
      "                    \"st_cl3\",\n",
      "                    \"sample_assay_plan1\"\n",
      "                ],\n",
      "                [\n",
      "                    \"st_cl2\",\n",
      "                    \"sample_assay_plan1\"\n",
      "                ],\n",
      "                [\n",
      "                    \"st_cl5\",\n",
      "                    \"sample_assay_plan1\"\n",
      "                ]\n",
      "            ],\n",
      "            \"sampleAssayPlans\": [\n",
      "                {\n",
      "                    \"assay_plan\": [\n",
      "                        {\n",
      "                            \"assay_type\": {\n",
      "                                \"measurement_type\": \"metabolite profiling\",\n",
      "                                \"technology_type\": \"mass spectrometry\",\n",
      "                                \"topology_modifiers\": []\n",
      "                            },\n",
      "                            \"sample_type\": \"liver\"\n",
      "                        }\n",
      "                    ],\n",
      "                    \"assay_types\": [\n",
      "                        {\n",
      "                            \"measurement_type\": \"metabolite profiling\",\n",
      "                            \"technology_type\": \"mass spectrometry\",\n",
      "                            \"topology_modifiers\": []\n",
      "                        }\n",
      "                    ],\n",
      "                    \"name\": \"sample_assay_plan1\",\n",
      "                    \"sample_plan\": [\n",
      "                        {\n",
      "                            \"sample_type\": \"liver\",\n",
      "                            \"sampling_size\": 3\n",
      "                        }\n",
      "                    ],\n",
      "                    \"sample_qc_plan\": [],\n",
      "                    \"sample_types\": [\n",
      "                        \"liver\"\n",
      "                    ]\n",
      "                }\n",
      "            ]\n",
      "        },\n",
      "        \"study arm one as test\": {\n",
      "            \"cells\": [\n",
      "                {\n",
      "                    \"elements\": [\n",
      "                        {\n",
      "                            \"__treatment\": false,\n",
      "                            \"factorValues\": [\n",
      "                                {\n",
      "                                    \"factor\": {\n",
      "                                        \"name\": \"DURATION\",\n",
      "                                        \"type\": {\n",
      "                                            \"term\": \"time\"\n",
      "                                        }\n",
      "                                    },\n",
      "                                    \"value\": 0.0\n",
      "                                }\n",
      "                            ],\n",
      "                            \"type\": \"screen\"\n",
      "                        }\n",
      "                    ],\n",
      "                    \"name\": \"st_cl1\"\n",
      "                },\n",
      "                {\n",
      "                    \"elements\": [\n",
      "                        {\n",
      "                            \"__treatment\": true,\n",
      "                            \"factorValues\": [\n",
      "                                {\n",
      "                                    \"factor\": {\n",
      "                                        \"name\": \"virus\",\n",
      "                                        \"type\": {\n",
      "                                            \"term\": \"\"\n",
      "                                        }\n",
      "                                    },\n",
      "                                    \"value\": \"high dose\"\n",
      "                                },\n",
      "                                {\n",
      "                                    \"factor\": {\n",
      "                                        \"name\": \"virus\",\n",
      "                                        \"type\": {\n",
      "                                            \"term\": \"\"\n",
      "                                        }\n",
      "                                    },\n",
      "                                    \"value\": \"hsv1\"\n",
      "                                },\n",
      "                                {\n",
      "                                    \"factor\": {\n",
      "                                        \"name\": \"time post infection\",\n",
      "                                        \"type\": {\n",
      "                                            \"term\": \"\"\n",
      "                                        }\n",
      "                                    },\n",
      "                                    \"unit\": null,\n",
      "                                    \"value\": \"2\"\n",
      "                                }\n",
      "                            ],\n",
      "                            \"type\": \"biological intervention\"\n",
      "                        }\n",
      "                    ],\n",
      "                    \"name\": \"st_cl2\"\n",
      "                },\n",
      "                {\n",
      "                    \"elements\": [\n",
      "                        {\n",
      "                            \"__treatment\": false,\n",
      "                            \"factorValues\": [\n",
      "                                {\n",
      "                                    \"factor\": {\n",
      "                                        \"name\": \"DURATION\",\n",
      "                                        \"type\": {\n",
      "                                            \"term\": \"time\"\n",
      "                                        }\n",
      "                                    },\n",
      "                                    \"unit\": null,\n",
      "                                    \"value\": \"2\"\n",
      "                                }\n",
      "                            ],\n",
      "                            \"type\": \"washout\"\n",
      "                        }\n",
      "                    ],\n",
      "                    \"name\": \"st_cl3\"\n",
      "                },\n",
      "                {\n",
      "                    \"elements\": [\n",
      "                        {\n",
      "                            \"__treatment\": true,\n",
      "                            \"factorValues\": [\n",
      "                                {\n",
      "                                    \"factor\": {\n",
      "                                        \"name\": \"antiviral\",\n",
      "                                        \"type\": {\n",
      "                                            \"term\": \"\"\n",
      "                                        }\n",
      "                                    },\n",
      "                                    \"value\": \"hsvflumab\"\n",
      "                                },\n",
      "                                {\n",
      "                                    \"factor\": {\n",
      "                                        \"name\": \"treatment duration\",\n",
      "                                        \"type\": {\n",
      "                                            \"term\": \"\"\n",
      "                                        }\n",
      "                                    },\n",
      "                                    \"unit\": null,\n",
      "                                    \"value\": \"2\"\n",
      "                                },\n",
      "                                {\n",
      "                                    \"factor\": {\n",
      "                                        \"name\": \"dose\",\n",
      "                                        \"type\": {\n",
      "                                            \"term\": \"\"\n",
      "                                        }\n",
      "                                    },\n",
      "                                    \"unit\": null,\n",
      "                                    \"value\": \"10\"\n",
      "                                }\n",
      "                            ],\n",
      "                            \"type\": \"chemical intervention\"\n",
      "                        }\n",
      "                    ],\n",
      "                    \"name\": \"st_cl4\"\n",
      "                },\n",
      "                {\n",
      "                    \"elements\": [\n",
      "                        {\n",
      "                            \"__treatment\": false,\n",
      "                            \"factorValues\": [\n",
      "                                {\n",
      "                                    \"factor\": {\n",
      "                                        \"name\": \"DURATION\",\n",
      "                                        \"type\": {\n",
      "                                            \"term\": \"time\"\n",
      "                                        }\n",
      "                                    },\n",
      "                                    \"unit\": null,\n",
      "                                    \"value\": \"4\"\n",
      "                                }\n",
      "                            ],\n",
      "                            \"type\": \"follow-up\"\n",
      "                        }\n",
      "                    ],\n",
      "                    \"name\": \"st_cl5\"\n",
      "                }\n",
      "            ],\n",
      "            \"groupSize\": 20,\n",
      "            \"mappings\": [\n",
      "                [\n",
      "                    \"st_cl1\",\n",
      "                    \"sample_assay_plan1\"\n",
      "                ],\n",
      "                [\n",
      "                    \"st_cl2\",\n",
      "                    \"sample_assay_plan1\"\n",
      "                ],\n",
      "                [\n",
      "                    \"st_cl3\",\n",
      "                    \"sample_assay_plan1\"\n",
      "                ],\n",
      "                [\n",
      "                    \"st_cl4\",\n",
      "                    \"sample_assay_plan1\"\n",
      "                ],\n",
      "                [\n",
      "                    \"st_cl5\",\n",
      "                    \"sample_assay_plan1\"\n",
      "                ]\n",
      "            ],\n",
      "            \"sampleAssayPlans\": [\n",
      "                {\n",
      "                    \"assay_plan\": [\n",
      "                        {\n",
      "                            \"assay_type\": {\n",
      "                                \"measurement_type\": \"metabolite profiling\",\n",
      "                                \"technology_type\": \"mass spectrometry\",\n",
      "                                \"topology_modifiers\": []\n",
      "                            },\n",
      "                            \"sample_type\": \"liver\"\n",
      "                        }\n",
      "                    ],\n",
      "                    \"assay_types\": [\n",
      "                        {\n",
      "                            \"measurement_type\": \"metabolite profiling\",\n",
      "                            \"technology_type\": \"mass spectrometry\",\n",
      "                            \"topology_modifiers\": []\n",
      "                        }\n",
      "                    ],\n",
      "                    \"name\": \"sample_assay_plan1\",\n",
      "                    \"sample_plan\": [\n",
      "                        {\n",
      "                            \"sample_type\": \"liver\",\n",
      "                            \"sampling_size\": 3\n",
      "                        }\n",
      "                    ],\n",
      "                    \"sample_qc_plan\": [],\n",
      "                    \"sample_types\": [\n",
      "                        \"liver\"\n",
      "                    ]\n",
      "                }\n",
      "            ]\n",
      "        }\n",
      "    }\n",
      "}\n"
     ]
    }
   ],
   "source": [
    "# Let's now serialize the ISA study design to JSON\n",
    "import json\n",
    "from isatools.isajson import ISAJSONEncoder\n",
    "from isatools.create.models import StudyDesignEncoder\n",
    "\n",
    "print(json.dumps(sd, cls=StudyDesignEncoder, sort_keys=True, indent=4, separators=(',', ': ')))"
   ]
  },
  {
   "cell_type": "code",
   "execution_count": 32,
   "metadata": {},
   "outputs": [
    {
     "ename": "SyntaxError",
     "evalue": "invalid syntax (<ipython-input-32-91187e8ba808>, line 2)",
     "output_type": "error",
     "traceback": [
      "\u001b[0;36m  File \u001b[0;32m\"<ipython-input-32-91187e8ba808>\"\u001b[0;36m, line \u001b[0;32m2\u001b[0m\n\u001b[0;31m    TODO:\u001b[0m\n\u001b[0m         ^\u001b[0m\n\u001b[0;31mSyntaxError\u001b[0m\u001b[0;31m:\u001b[0m invalid syntax\n"
     ]
    }
   ],
   "source": [
    "# let's produce a graphical overview of the study design arms and the associated sample assay plans\n",
    "TODO:"
   ]
  }
 ],
 "metadata": {
  "kernelspec": {
   "display_name": "Python 3",
   "language": "python",
   "name": "python3"
  },
  "language_info": {
   "codemirror_mode": {
    "name": "ipython",
    "version": 3
   },
   "file_extension": ".py",
   "mimetype": "text/x-python",
   "name": "python",
   "nbconvert_exporter": "python",
   "pygments_lexer": "ipython3",
   "version": "3.6.5"
  },
  "widgets": {
   "state": {
    "7baa9c5f45bb4458984ca0e09a629029": {
     "views": [
      {
       "cell_index": 1
      }
     ]
    }
   },
   "version": "1.2.0"
  }
 },
 "nbformat": 4,
 "nbformat_minor": 1
}
