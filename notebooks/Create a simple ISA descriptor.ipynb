{
 "cells": [
  {
   "cell_type": "code",
   "execution_count": 3,
   "metadata": {},
   "outputs": [],
   "source": [
    "from isatools.model import *"
   ]
  },
  {
   "cell_type": "markdown",
   "metadata": {},
   "source": [
    "# Create a simple ISA descriptor\n",
    "\n",
    "This example creates metadata for a single study ISA descriptor, and shows how to dump the ISA Model content to ISA-Tab and ISA-JSON."
   ]
  },
  {
   "cell_type": "markdown",
   "metadata": {},
   "source": [
    "## Study metadata"
   ]
  },
  {
   "cell_type": "code",
   "execution_count": 4,
   "metadata": {},
   "outputs": [
    {
     "data": {
      "application/vnd.jupyter.widget-view+json": {
       "model_id": "4b5b71b3ea2e42509a4c6279cc1c6f82",
       "version_major": 2,
       "version_minor": 0
      },
      "text/plain": [
       "VBox(children=(Text(value='S1', description='Identifier:', placeholder='e.g. S1'), Text(value='My Simple ISA S…"
      ]
     },
     "metadata": {},
     "output_type": "display_data"
    }
   ],
   "source": [
    "from ipywidgets import RadioButtons, VBox, HBox, Layout, Label, Text, Textarea, DatePicker\n",
    "import datetime\n",
    "identifier = Text(\n",
    "        value='S1',\n",
    "        placeholder='e.g. S1',\n",
    "        description='Identifier:',\n",
    "        disabled=False\n",
    "    )\n",
    "title = Text(\n",
    "        value='My Simple ISA Study',\n",
    "        placeholder='e.g. My Study title',\n",
    "        description='Title:',\n",
    "        disabled=False\n",
    "    )\n",
    "description = Textarea(\n",
    "    value=\"We could alternatively use the class constructor's parameters to set some default \" \\\n",
    "          \"values at the time of creation, however we want to demonstrate how to use the \" \\\n",
    "          \"object's instance variables to set values.\",\n",
    "    placeholder='Type something',\n",
    "    description='Description:',\n",
    "    disabled=False\n",
    ")\n",
    "sub_date = DatePicker(description=\"Submission date:\", value=datetime.datetime.today())\n",
    "release_date = DatePicker(description=\"Public release date:\", value=datetime.datetime.today())\n",
    "VBox([identifier,\n",
    "      title,\n",
    "      description,\n",
    "      sub_date,\n",
    "      release_date])"
   ]
  },
  {
   "cell_type": "code",
   "execution_count": null,
   "metadata": {},
   "outputs": [],
   "source": []
  },
  {
   "cell_type": "code",
   "execution_count": 6,
   "metadata": {},
   "outputs": [
    {
     "name": "stdout",
     "output_type": "stream",
     "text": [
      "Protocol(\n",
      "    name=sample collection\n",
      "    protocol_type=\n",
      "    uri=\n",
      "    version=\n",
      "    parameters=0 ProtocolParameter objects\n",
      "    components=0 OntologyAnnotation objects\n",
      "    comments=1 Comment objects\n",
      ")\n"
     ]
    },
    {
     "data": {
      "text/plain": [
       "isatools.model.Investigation(identifier='', filename='', title='', submission_date='', public_release_date='', ontology_source_references=[], publications=[], contacts=[], studies=[isatools.model.Study(filename='s_study.txt', identifier='S1', title='My Simple ISA Study', description='We could alternatively use the class constructor's parameters to set some default values at the time of creation, however we want to demonstrate how to use the object's instance variables to set values.', submission_date='2019-05-08 15:33:40.991402', public_release_date='2019-05-08 15:33:40.995197', contacts=[], design_descriptors=[], publications=[], factors=[isatools.model.StudyFactor(name='treatment['modality']', factor_type=isatools.model.OntologyAnnotation(term='treatment[modality]', term_source=None, term_accession='', comments=[]), comments=[isatools.model.Comment(name='Study Start Date', value='Moon')])], protocols=[isatools.model.Protocol(name='sample collection', protocol_type=isatools.model.OntologyAnnotation(term='', term_source=None, term_accession='', comments=[]), uri='', version='', parameters=[], components=[], comments=[isatools.model.Comment(name='Study Start Date', value='Uranus')])], assays=[], sources=[isatools.model.Source(name='source1', characteristics=[], comments=[])], samples=[isatools.model.Sample(name='sample1', characteristics=[], factor_values=[], derives_from=[], comments=[])], process_sequence=[<isatools.model.Process object at 0x1210203c8>], other_material=[], characteristic_categories=[], comments=[isatools.model.Comment(name='Study Start Date', value='Sun')], units=[])], comments=[])"
      ]
     },
     "execution_count": 6,
     "metadata": {},
     "output_type": "execute_result"
    }
   ],
   "source": [
    "investigation = Investigation()\n",
    "study = Study(filename=\"s_study.txt\")\n",
    "study.identifier = identifier.value\n",
    "study.title = title.value\n",
    "study.description = description.value\n",
    "study.submission_date = str(sub_date.value)\n",
    "study.public_release_date = str(release_date.value)\n",
    "study.sources = [Source(name=\"source1\")]\n",
    "study.samples = [Sample(name=\"sample1\")]\n",
    "study.protocols = [Protocol(name=\"sample collection\")]\n",
    "study.process_sequence = [Process(executes_protocol=study.protocols[-1], inputs=[study.sources[-1]], outputs=[study.samples[-1]])]\n",
    "\n",
    "investigation.studies = [study]\n",
    "study.comments.append(Comment(name=\"Study Start Date\",value=\"Sun\"))\n",
    "\n",
    "# adding a dummy Comment[] to ISA.protocol object\n",
    "study.protocols[0].comments.append(Comment(name=\"Study Start Date\",value=\"Uranus\"))\n",
    "# checking that the ISA Protocool object has been modified\n",
    "print(study.protocols[0])\n",
    "\n",
    "\n",
    "f=StudyFactor(name=\"treatment['modality']\", factor_type=OntologyAnnotation(term=\"treatment[modality]\"))\n",
    "#testing serialization to ISA-TAB of Comments attached to ISA objects.\n",
    "f.comments.append(Comment(name=\"Study Start Date\",value=\"Moon\"))\n",
    "\n",
    "# print(f.comments[0].name, \"|\", f.comments[0].value)\n",
    "# checking that the ISA Factor object has been modified\n",
    "study.factors.append(f)\n",
    "                "
   ]
  },
  {
   "cell_type": "code",
   "execution_count": 7,
   "metadata": {},
   "outputs": [
    {
     "name": "stdout",
     "output_type": "stream",
     "text": [
      "/var/folders/5n/rl6lqnks4rqb59pbtpvvntqw0000gr/T/tmpsnpncm9f/i_investigation.txt\n",
      "ONTOLOGY SOURCE REFERENCE\n",
      "Term Source Name\n",
      "Term Source File\n",
      "Term Source Version\n",
      "Term Source Description\n",
      "INVESTIGATION\n",
      "Investigation Identifier\t\n",
      "Investigation Title\t\n",
      "Investigation Description\t\n",
      "Investigation Submission Date\t\n",
      "Investigation Public Release Date\t\n",
      "INVESTIGATION PUBLICATIONS\n",
      "Investigation PubMed ID\n",
      "Investigation Publication DOI\n",
      "Investigation Publication Author List\n",
      "Investigation Publication Title\n",
      "Investigation Publication Status\n",
      "Investigation Publication Status Term Accession Number\n",
      "Investigation Publication Status Term Source REF\n",
      "INVESTIGATION CONTACTS\n",
      "Investigation Person Last Name\n",
      "Investigation Person First Name\n",
      "Investigation Person Mid Initials\n",
      "Investigation Person Email\n",
      "Investigation Person Phone\n",
      "Investigation Person Fax\n",
      "Investigation Person Address\n",
      "Investigation Person Affiliation\n",
      "Investigation Person Roles\n",
      "Investigation Person Roles Term Accession Number\n",
      "Investigation Person Roles Term Source REF\n",
      "STUDY\n",
      "Study Identifier\tS1\n",
      "Study Title\tMy Simple ISA Study\n",
      "Study Description\tWe could alternatively use the class constructor's parameters to set some default values at the time of creation, however we want to demonstrate how to use the object's instance variables to set values.\n",
      "Study Submission Date\t2019-05-08 15:33:40.991402\n",
      "Study Public Release Date\t2019-05-08 15:33:40.995197\n",
      "Study File Name\ts_study.txt\n",
      "Comment[Study Start Date]\tSun\n",
      "STUDY DESIGN DESCRIPTORS\n",
      "Study Design Type\n",
      "Study Design Type Term Accession Number\n",
      "Study Design Type Term Source REF\n",
      "STUDY PUBLICATIONS\n",
      "Study PubMed ID\n",
      "Study Publication DOI\n",
      "Study Publication Author List\n",
      "Study Publication Title\n",
      "Study Publication Status\n",
      "Study Publication Status Term Accession Number\n",
      "Study Publication Status Term Source REF\n",
      "STUDY FACTORS\n",
      "Study Factor Name\ttreatment['modality']\n",
      "Study Factor Type\ttreatment[modality]\n",
      "Study Factor Type Term Accession Number\t\n",
      "Study Factor Type Term Source REF\t\n",
      "STUDY ASSAYS\n",
      "Study Assay File Name\n",
      "Study Assay Measurement Type\n",
      "Study Assay Measurement Type Term Accession Number\n",
      "Study Assay Measurement Type Term Source REF\n",
      "Study Assay Technology Type\n",
      "Study Assay Technology Type Term Accession Number\n",
      "Study Assay Technology Type Term Source REF\n",
      "Study Assay Technology Platform\n",
      "STUDY PROTOCOLS\n",
      "Study Protocol Name\tsample collection\n",
      "Study Protocol Type\t\n",
      "Study Protocol Type Term Accession Number\t\n",
      "Study Protocol Type Term Source REF\t\n",
      "Study Protocol Description\t\n",
      "Study Protocol URI\t\n",
      "Study Protocol Version\t\n",
      "Study Protocol Parameters Name\t\n",
      "Study Protocol Parameters Name Term Accession Number\t\n",
      "Study Protocol Parameters Name Term Source REF\t\n",
      "Study Protocol Components Name\t\n",
      "Study Protocol Components Type\t\n",
      "Study Protocol Components Type Term Accession Number\t\n",
      "Study Protocol Components Type Term Source REF\t\n",
      "STUDY CONTACTS\n",
      "Study Person Last Name\n",
      "Study Person First Name\n",
      "Study Person Mid Initials\n",
      "Study Person Email\n",
      "Study Person Phone\n",
      "Study Person Fax\n",
      "Study Person Address\n",
      "Study Person Affiliation\n",
      "Study Person Roles\n",
      "Study Person Roles Term Accession Number\n",
      "Study Person Roles Term Source REF\n",
      "--------\n",
      "/var/folders/5n/rl6lqnks4rqb59pbtpvvntqw0000gr/T/tmpsnpncm9f/s_study.txt\n",
      "Source Name\tProtocol REF\tSample Name\n",
      "source1\tsample collection\tsample1\n",
      "\n"
     ]
    }
   ],
   "source": [
    "# Serialization as ISA-Tab\n",
    "from isatools.isatab import dumps\n",
    "print(dumps(investigation))"
   ]
  },
  {
   "cell_type": "code",
   "execution_count": 9,
   "metadata": {},
   "outputs": [
    {
     "name": "stdout",
     "output_type": "stream",
     "text": [
      "{\n",
      "    \"comments\": [],\n",
      "    \"description\": \"\",\n",
      "    \"identifier\": \"\",\n",
      "    \"ontologySourceReferences\": [],\n",
      "    \"people\": [],\n",
      "    \"publicReleaseDate\": \"\",\n",
      "    \"publications\": [],\n",
      "    \"studies\": [\n",
      "        {\n",
      "            \"assays\": [],\n",
      "            \"characteristicCategories\": [],\n",
      "            \"comments\": [\n",
      "                {\n",
      "                    \"name\": \"Study Start Date\",\n",
      "                    \"value\": \"Sun\"\n",
      "                }\n",
      "            ],\n",
      "            \"description\": \"We could alternatively use the class constructor's parameters to set some default values at the time of creation, however we want to demonstrate how to use the object's instance variables to set values.\",\n",
      "            \"factors\": [\n",
      "                {\n",
      "                    \"@id\": \"#4848747408\",\n",
      "                    \"factorName\": \"treatment['modality']\",\n",
      "                    \"factorType\": {\n",
      "                        \"@id\": \"#4848747520\",\n",
      "                        \"annotationValue\": \"treatment[modality]\",\n",
      "                        \"termAccession\": \"\",\n",
      "                        \"termSource\": \"\"\n",
      "                    }\n",
      "                }\n",
      "            ],\n",
      "            \"filename\": \"s_study.txt\",\n",
      "            \"identifier\": \"S1\",\n",
      "            \"materials\": {\n",
      "                \"otherMaterials\": [],\n",
      "                \"samples\": [\n",
      "                    {\n",
      "                        \"@id\": \"#sample/4848750320\",\n",
      "                        \"characteristics\": [],\n",
      "                        \"factorValues\": [],\n",
      "                        \"name\": \"sample1\"\n",
      "                    }\n",
      "                ],\n",
      "                \"sources\": [\n",
      "                    {\n",
      "                        \"@id\": \"#source/4848747240\",\n",
      "                        \"characteristics\": [],\n",
      "                        \"name\": \"source1\"\n",
      "                    }\n",
      "                ]\n",
      "            },\n",
      "            \"people\": [],\n",
      "            \"processSequence\": [\n",
      "                {\n",
      "                    \"@id\": \"#process/4848747464\",\n",
      "                    \"comments\": [],\n",
      "                    \"date\": \"\",\n",
      "                    \"executesProtocol\": {\n",
      "                        \"@id\": \"#4848749648\"\n",
      "                    },\n",
      "                    \"inputs\": [\n",
      "                        {\n",
      "                            \"@id\": \"#source/4848747240\"\n",
      "                        }\n",
      "                    ],\n",
      "                    \"name\": \"\",\n",
      "                    \"outputs\": [\n",
      "                        {\n",
      "                            \"@id\": \"#sample/4848750320\"\n",
      "                        }\n",
      "                    ],\n",
      "                    \"parameterValues\": [],\n",
      "                    \"performer\": \"\"\n",
      "                }\n",
      "            ],\n",
      "            \"protocols\": [\n",
      "                {\n",
      "                    \"@id\": \"#4848749648\",\n",
      "                    \"comments\": [\n",
      "                        {\n",
      "                            \"name\": \"Study Start Date\",\n",
      "                            \"value\": \"Uranus\"\n",
      "                        }\n",
      "                    ],\n",
      "                    \"components\": [],\n",
      "                    \"description\": \"\",\n",
      "                    \"name\": \"sample collection\",\n",
      "                    \"parameters\": [],\n",
      "                    \"protocolType\": {\n",
      "                        \"@id\": \"#4848748416\",\n",
      "                        \"annotationValue\": \"\",\n",
      "                        \"termAccession\": \"\",\n",
      "                        \"termSource\": \"\"\n",
      "                    },\n",
      "                    \"uri\": \"\",\n",
      "                    \"version\": \"\"\n",
      "                }\n",
      "            ],\n",
      "            \"publicReleaseDate\": \"2019-05-08 15:33:40.995197\",\n",
      "            \"publications\": [],\n",
      "            \"studyDesignDescriptors\": [],\n",
      "            \"submissionDate\": \"2019-05-08 15:33:40.991402\",\n",
      "            \"title\": \"My Simple ISA Study\",\n",
      "            \"unitCategories\": []\n",
      "        }\n",
      "    ],\n",
      "    \"submissionDate\": \"\",\n",
      "    \"title\": \"\"\n",
      "}\n"
     ]
    }
   ],
   "source": [
    "# Serialization as ISA-JSON\n",
    "\n",
    "import json\n",
    "from isatools.isajson import ISAJSONEncoder\n",
    "print(json.dumps(investigation, cls=ISAJSONEncoder, sort_keys=True, indent=4, separators=(',', ': ')))"
   ]
  }
 ],
 "metadata": {
  "kernelspec": {
   "display_name": "Python 3",
   "language": "python",
   "name": "python3"
  },
  "language_info": {
   "codemirror_mode": {
    "name": "ipython",
    "version": 3
   },
   "file_extension": ".py",
   "mimetype": "text/x-python",
   "name": "python",
   "nbconvert_exporter": "python",
   "pygments_lexer": "ipython3",
   "version": "3.6.5"
  },
  "widgets": {
   "state": {
    "7baa9c5f45bb4458984ca0e09a629029": {
     "views": [
      {
       "cell_index": 1
      }
     ]
    }
   },
   "version": "1.2.0"
  }
 },
 "nbformat": 4,
 "nbformat_minor": 1
}
