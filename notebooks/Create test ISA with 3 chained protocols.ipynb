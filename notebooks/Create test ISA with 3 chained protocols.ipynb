{
 "cells": [
  {
   "cell_type": "markdown",
   "metadata": {},
   "source": [
    "# Create a simple ISA descriptor\n",
    "\n",
    "This example details:\n",
    "- How to create metadata for a single study ISA descriptor\n",
    "- How to write the ISA in-memory Model content to file in ISA-Tab format.\n",
    "- How to write the ISA in-memory Model to file in ISA-JSON format.\n",
    "- How to load an ISA object representation from an ISA-JSON document on disk."
   ]
  },
  {
   "cell_type": "markdown",
   "metadata": {},
   "source": [
    "## ISA Study metadata"
   ]
  },
  {
   "cell_type": "code",
   "execution_count": null,
   "metadata": {},
   "outputs": [],
   "source": [
    "from isatools.model import *\n",
    "from isatools.isatab import *\n",
    "from isatools.isajson import *\n",
    "import io\n",
    "# from isatools.isajson import ISAJSONEncoder\n",
    "from isatools.isajson import load\n",
    "# from isatools.isatab import dumps\n",
    "\n",
    "from ipywidgets import RadioButtons, VBox, HBox, Layout, Label, Text, Textarea, DatePicker\n",
    "\n",
    "import json\n",
    "import datetime\n",
    "import os\n",
    "\n",
    "identifier = Text(\n",
    "        value=\"1\",\n",
    "        placeholder='e.g. 1',\n",
    "        description='Identifier:',\n",
    "        disabled=False\n",
    "    )\n",
    "title = Text(\n",
    "        value='My Simple ISA Study',\n",
    "        placeholder='e.g. My Study title',\n",
    "        description='Title:',\n",
    "        disabled=False\n",
    "    )\n",
    "description = Textarea(\n",
    "    value=\"We could alternatively use the class constructor's parameters to set some default \" \\\n",
    "          \"values at the time of creation, however we want to demonstrate how to use the \" \\\n",
    "          \"object's instance variables to set values.\",\n",
    "    placeholder='Type something',\n",
    "    description='Description:',\n",
    "    disabled=False\n",
    ")\n",
    "sub_date = DatePicker(description=\"Submission date:\", value=datetime.datetime.today())\n",
    "release_date = DatePicker(description=\"Public release date:\", value=datetime.datetime.today())\n",
    "VBox([identifier,\n",
    "      title,\n",
    "      description,\n",
    "      sub_date,\n",
    "      release_date])"
   ]
  },
  {
   "cell_type": "markdown",
   "metadata": {},
   "source": [
    "### 1. Declaring terminology resources "
   ]
  },
  {
   "cell_type": "code",
   "execution_count": null,
   "metadata": {},
   "outputs": [],
   "source": [
    "investigation = Investigation(identifier=1)\n",
    "\n",
    "obi = OntologySource(name='OBI', description=\"Ontology for Biomedical Investigation\")\n",
    "ncbitaxon = OntologySource(name='NCBITaxon', description=\"NCBI Taxonomy\")\n",
    "# 2. Adding them to the Investigation object\n",
    "investigation.ontology_source_references.append(obi)\n",
    "investigation.ontology_source_references.append(ncbitaxon)\n",
    "\n",
    "# print(investigation)"
   ]
  },
  {
   "cell_type": "markdown",
   "metadata": {},
   "source": [
    "\n",
    "### 2. Creating an example of ISA Study descriptor:"
   ]
  },
  {
   "cell_type": "code",
   "execution_count": null,
   "metadata": {},
   "outputs": [],
   "source": [
    "study_design_annotation = OntologyAnnotation(term_source=obi)\n",
    "study_design_annotation.term = \"intervention design\"\n",
    "study_design_annotation.term_accession = \"http://purl.obolibrary.org/obo/OBI_0000115\""
   ]
  },
  {
   "cell_type": "markdown",
   "metadata": {},
   "source": [
    "### 3. Populating some of the ISA Study attribute from the form:"
   ]
  },
  {
   "cell_type": "code",
   "execution_count": null,
   "metadata": {},
   "outputs": [],
   "source": [
    "study = Study(filename=\"s_study.txt\")\n",
    "study.identifier = identifier.value\n",
    "study.title = title.value\n",
    "study.description = description.value\n",
    "study.submission_date = str(sub_date.value)\n",
    "study.public_release_date = str(release_date.value)\n",
    "study.design_descriptors.append(study_design_annotation)"
   ]
  },
  {
   "cell_type": "markdown",
   "metadata": {},
   "source": [
    "### 4. Adding an ISA Study to an ISA Investigation object"
   ]
  },
  {
   "cell_type": "markdown",
   "metadata": {},
   "source": [
    "### 5. Creation of an ISA Study Factor object"
   ]
  },
  {
   "cell_type": "code",
   "execution_count": null,
   "metadata": {},
   "outputs": [],
   "source": [
    "f=StudyFactor(name=\"treatment['modality']\", factor_type=OntologyAnnotation(term=\"treatment['modality']\"))\n",
    "# checking that the ISA Factor object has been modified\n",
    "study.factors.append(f)\n",
    "\n",
    "#testing serialization to ISA-TAB of Comments attached to ISA objects.\n",
    "# f.comments.append(Comment(name=\"Study Start Date\",value=\"Moon\"))\n",
    "# print(f.comments[0].name, \"|\", f.comments[0].value)"
   ]
  },
  {
   "cell_type": "markdown",
   "metadata": {},
   "source": [
    "### 6. Creation of an ISA Person object and adding it to the list of ISA Study Contacts:"
   ]
  },
  {
   "cell_type": "code",
   "execution_count": null,
   "metadata": {},
   "outputs": [],
   "source": [
    "contact = Person(first_name=\"Alice\", last_name=\"Robertson\", affiliation=\"University of Life\", roles=[OntologyAnnotation(term='submitter')])\n",
    "study.contacts.append(contact)"
   ]
  },
  {
   "cell_type": "markdown",
   "metadata": {},
   "source": [
    "### 7. Creation of an ISA Publication object and adding it to the list of ISA Study Publications."
   ]
  },
  {
   "cell_type": "code",
   "execution_count": null,
   "metadata": {},
   "outputs": [],
   "source": [
    "publication = Publication(title=\"Experiments with Humans\", author_list=\"A. Robertson, B. Robertson\")\n",
    "publication.pubmed_id = \"12345678\"\n",
    "publication.status = OntologyAnnotation(term=\"published\")\n",
    "study.publications.append(publication)\n",
    "\n",
    "print(study)"
   ]
  },
  {
   "cell_type": "markdown",
   "metadata": {},
   "source": [
    "### 8. Creating a parent ISA Source:"
   ]
  },
  {
   "cell_type": "code",
   "execution_count": null,
   "metadata": {},
   "outputs": [],
   "source": [
    "source_A = Source(name='source_material_A')\n",
    "#Specifying the taxonomic group of the ISA Source \n",
    "characteristic_organism = Characteristic( category=OntologyAnnotation(id_='1',\n",
    "                                                                      term=\"Organism\"),\n",
    "                                                                      value=OntologyAnnotation(\n",
    "                                                                             term=\"Homo Sapiens\",\n",
    "                                                                             term_source=ncbitaxon,\n",
    "                                                                             term_accession=\"http://purl.bioontology.org/ontology/NCBITAXON/9606\"))\n",
    "# Adding the description to the ISA Source Material:\n",
    "source_A.characteristics.append(characteristic_organism)\n",
    "\n",
    "study.sources.append(source_A)"
   ]
  },
  {
   "cell_type": "code",
   "execution_count": null,
   "metadata": {},
   "outputs": [],
   "source": [
    "source_B = Source(name='source_material_B')\n",
    "#Specifying the taxonomic group of the ISA Source \n",
    "characteristic_organism = Characteristic( category=OntologyAnnotation(id_='1',\n",
    "                                                                      term=\"Organism\"),\n",
    "                                                                      value=OntologyAnnotation(\n",
    "                                                                             term=\"Mus musculus\",\n",
    "                                                                             term_source=ncbitaxon,\n",
    "                                                                             term_accession=\"http://purl.bioontology.org/ontology/NCBITAXON/10090\"))\n",
    "# Adding the description to the ISA Source Material:\n",
    "source_B.characteristics.append(characteristic_organism)\n",
    "\n",
    "study.sources.append(source_B)"
   ]
  },
  {
   "cell_type": "code",
   "execution_count": null,
   "metadata": {},
   "outputs": [],
   "source": [
    "# Creating a template for ISA Sample Material deriving from the ISA Source Material we create before:\n",
    "prototype_sample_df_A = Sample(name='sample_material-A', derives_from=[source_A])\n",
    "\n",
    "# To annotate this sample, we need terms from a new ontology, here UBERON, let's declare it.\n",
    "uberon = OntologySource(name='UBERON', description=\"UBER Anatomy Ontology\")\n",
    "# Important!: be sure to add all ontology resources, failing to do so will raise error when invoking a non-referenced resources\n",
    "investigation.ontology_source_references.append(uberon)\n",
    "\n",
    "# Creating an ```ISA characteristic``` attribute to annotation the ```ISA Sample``` to indicate the nature of the specimen\n",
    "characteristic_organ_a = Characteristic(category=OntologyAnnotation(id_='2',\n",
    "                                                                  term=\"OrganismPart\"),\n",
    "                                      value=OntologyAnnotation(term=\"liver\",\n",
    "                                                              term_source=uberon,\n",
    "                                                              term_accession=\"http://purl.obolibrary.org/obo/UBERON_0002107\"))\n",
    "\n",
    "# Associating the instances of \n",
    "prototype_sample_df_A.characteristics.append(characteristic_organ_a)\n",
    "\n",
    "study.samples=batch_create_materials(prototype_sample_df_A, n=1)\n",
    "print(study.samples)"
   ]
  },
  {
   "cell_type": "code",
   "execution_count": null,
   "metadata": {},
   "outputs": [],
   "source": [
    "# Creating a template for ISA Sample Material deriving from the ISA Source Material we create before:\n",
    "prototype_sample_df_B = Sample(name='sample_material-B', derives_from=[source_B])\n",
    "\n",
    "# Creating an ```ISA characteristic``` attribute to annotation the ```ISA Sample``` to indicate the nature of the specimen\n",
    "characteristic_organ_b = Characteristic(category=OntologyAnnotation(id_='3',\n",
    "                                                                  term=\"OrganismPart\"),\n",
    "                                      value=OntologyAnnotation(term=\"heart\",\n",
    "                                                              term_source=uberon,\n",
    "                                                              term_accession=\"http://purl.obolibrary.org/obo/UBERON_0000948\"))\n",
    "\n",
    "# Associating the instances of \n",
    "prototype_sample_df_B.characteristics.append(characteristic_organ_b)\n",
    "\n",
    "Bsamples=batch_create_materials(prototype_sample_df_B, n=2)\n",
    "\n",
    "study.samples.extend(Bsamples)\n",
    "print(study.samples)"
   ]
  },
  {
   "cell_type": "code",
   "execution_count": null,
   "metadata": {},
   "outputs": [],
   "source": [
    "sample_collection_protocol = Protocol(name=\"sample collection\",\n",
    "                                      protocol_type=OntologyAnnotation(term=\"sample collection\"))\n",
    "\n",
    "study.protocols.append(sample_collection_protocol)\n",
    "\n",
    "sample_collection_process = Process(executes_protocol=sample_collection_protocol)\n",
    "\n",
    "for src in study.sources:\n",
    "    print(\"sources: \",src)\n",
    "    sample_collection_process.inputs.append(src)\n",
    "for sam in study.samples:\n",
    "    print(\"samples: \", sam)\n",
    "    sample_collection_process.outputs.append(sam)\n",
    "\n",
    "study.process_sequence.append(sample_collection_process)\n",
    "\n",
    "# print(study.samples)"
   ]
  },
  {
   "cell_type": "markdown",
   "metadata": {},
   "source": [
    "### Important: \n",
    "when creating the ISA descriptor objects manually, all the ISA Material Characteristics Category (the main type of annotations) need to be listed and attached to the ISA Study object, as shown below:"
   ]
  },
  {
   "cell_type": "code",
   "execution_count": null,
   "metadata": {},
   "outputs": [],
   "source": [
    "study.characteristic_categories.append(characteristic_organ_a.category)\n",
    "study.characteristic_categories.append(characteristic_organ_b.category)\n",
    "study.characteristic_categories.append(characteristic_organism.category)\n"
   ]
  },
  {
   "cell_type": "markdown",
   "metadata": {},
   "source": [
    "### Creating ISA assay with 2 chained protocols:"
   ]
  },
  {
   "cell_type": "code",
   "execution_count": null,
   "metadata": {},
   "outputs": [],
   "source": [
    "# assay = Assay(filename=\"a_assay_2protocols.txt\")\n",
    "\n",
    "# extraction_protocol = Protocol(name='extraction', protocol_type=OntologyAnnotation(term=\"material extraction\"))\n",
    "# study.protocols.append(extraction_protocol)\n",
    "\n",
    "# sequencing_protocol = Protocol(name='sequencing', protocol_type=OntologyAnnotation(term=\"material sequencing\"))\n",
    "# study.protocols.append(sequencing_protocol)\n",
    "    \n",
    "# for i, sample in enumerate(study.samples):\n",
    "    \n",
    "#     # create an extraction process that executes the extraction protocol\n",
    "#     extraction_process = Process(executes_protocol=extraction_protocol)\n",
    "    \n",
    "#     # extraction process takes as input a sample, and produces an extract material as output\n",
    "#     extraction_process.inputs.append(sample)\n",
    "#     material = Material(name=\"extract-{}\".format(i))\n",
    "#     material.type = \"Extract Name\"\n",
    "#     extraction_process.outputs.append(material)\n",
    "\n",
    "#     # create a sequencing process that executes the sequencing protocol\n",
    "#     sequencing_process = Process(executes_protocol=sequencing_protocol)\n",
    "#     sequencing_process.name = \"assay-name-{}\".format(i)\n",
    "#     sequencing_process.inputs.append(extraction_process.outputs[0])\n",
    "\n",
    "#     # Sequencing process usually has an output data file\n",
    "#     datafile = DataFile(filename=\"sequenced-data-{}\".format(i), label=\"Raw Data File\", generated_from=[sample])\n",
    "#     sequencing_process.outputs.append(datafile)\n",
    "\n",
    "#     # Ensure Processes are linked forward and backward. plink(from_process, to_process) is a function to set\n",
    "#     # these links for you. It is found in the isatools.model package\n",
    "#     plink(extraction_process, sequencing_process)\n",
    "\n",
    "#     # make sure the extract, data file, and the processes are attached to the assay\n",
    "#     assay.samples.append(sample)\n",
    "#     assay.data_files.append(datafile)\n",
    "#     assay.other_material.append(material)\n",
    "#     assay.process_sequence.append(extraction_process)\n",
    "#     assay.process_sequence.append(sequencing_process)\n",
    "\n",
    "# assay.measurement_type = OntologyAnnotation(term=\"gene sequencing\")\n",
    "# assay.technology_type = OntologyAnnotation(term=\"nucleotide sequencing\") \n",
    "    \n",
    "# study.assays.append(assay)"
   ]
  },
  {
   "cell_type": "markdown",
   "metadata": {},
   "source": [
    "### Creating ISA assay with 3 chained protocols:"
   ]
  },
  {
   "cell_type": "code",
   "execution_count": null,
   "metadata": {},
   "outputs": [],
   "source": [
    "assay_3steps = Assay(filename=\"a_assay_3protocols.txt\")\n",
    "\n",
    "extraction_protocol = Protocol(name='extraction', protocol_type=OntologyAnnotation(term=\"material extraction\"))\n",
    "study.protocols.append(extraction_protocol)\n",
    "\n",
    "library_prep_protocol = Protocol(name='library construction', protocol_type=OntologyAnnotation(term=\"library construction\"))\n",
    "study.protocols.append(library_prep_protocol)\n",
    "\n",
    "sequencing_protocol = Protocol(name='sequencing', protocol_type=OntologyAnnotation(term=\"material sequencing\"))\n",
    "study.protocols.append(sequencing_protocol)\n",
    "    \n",
    "for i, sample in enumerate(study.samples):\n",
    "    \n",
    "    # create an extraction process that executes the extraction protocol\n",
    "    extraction_process = Process(executes_protocol=extraction_protocol)\n",
    "    \n",
    "    # extraction process takes as input a sample, and produces an extract material as output\n",
    "    extraction_process.inputs.append(sample)\n",
    "    material = Material(name=\"extract-{}\".format(i))\n",
    "    material.type = \"Extract Name\"\n",
    "   # extraction_process.outputs.append(material)\n",
    "    \n",
    "    # library preparation process\n",
    "    library_process = Process(executes_protocol=library_prep_protocol)\n",
    "#     library_process.inputs.append(material)\n",
    "    # HERE no input is declared explicitly\n",
    "\n",
    "    # create a sequencing process that executes the sequencing protocol\n",
    "    sequencing_process = Process(executes_protocol=sequencing_protocol)\n",
    "    sequencing_process.name = \"assay-name-{}\".format(i)\n",
    "#     sequencing_process.inputs.append(extraction_process.outputs[0])\n",
    "\n",
    "    # Sequencing process usually has an output data file\n",
    "    datafile = DataFile(filename=\"sequenced-data-{}\".format(i), label=\"Raw Data File\", generated_from=[sample])\n",
    "    sequencing_process.outputs.append(datafile)\n",
    "\n",
    "    # Ensure Processes are linked forward and backward. plink(from_process, to_process) is a function to set\n",
    "    # these links for you. It is found in the isatools.model package\n",
    "    plink(extraction_process, library_process)\n",
    "    plink(library_process, sequencing_process)\n",
    "\n",
    "    # make sure the extract, data file, and the processes are attached to the assay\n",
    "    assay_3steps.samples.append(sample)\n",
    "    assay_3steps.data_files.append(datafile)\n",
    "    #assay_3steps.other_material.append(material)\n",
    "    assay_3steps.process_sequence.append(extraction_process)\n",
    "    assay_3steps.process_sequence.append(library_process)\n",
    "    assay_3steps.process_sequence.append(sequencing_process)\n",
    "\n",
    "assay_3steps.measurement_type = OntologyAnnotation(term=\"transcriptome profiling\")\n",
    "assay_3steps.technology_type = OntologyAnnotation(term=\"nucleotide sequencing\") \n",
    "    \n",
    "study.assays.append(assay_3steps)"
   ]
  },
  {
   "cell_type": "code",
   "execution_count": null,
   "metadata": {},
   "outputs": [],
   "source": [
    "investigation.studies = [study]\n",
    "print(study)\n",
    "\n",
    "# study.comments.append(Comment(name=\"Study Start Date\",value=\"Sun\"))\n",
    "# adding a dummy Comment[] to ISA.protocol object\n",
    "# study.protocols[0].comments.append(Comment(name=\"Study Start Date\",value=\"Uranus\"))\n",
    "# checking that the ISA Protocool object has been modified\n",
    "# print(study.protocols[0])"
   ]
  },
  {
   "cell_type": "markdown",
   "metadata": {},
   "source": [
    "### Serialization as ISA-Tab"
   ]
  },
  {
   "cell_type": "code",
   "execution_count": null,
   "metadata": {},
   "outputs": [],
   "source": [
    "print(dumps(investigation))"
   ]
  },
  {
   "cell_type": "markdown",
   "metadata": {},
   "source": [
    "### Serialization as ISA-JSON"
   ]
  },
  {
   "cell_type": "code",
   "execution_count": null,
   "metadata": {},
   "outputs": [],
   "source": [
    "isa_j = json.dumps(investigation, cls=ISAJSONEncoder, sort_keys=True, indent=4, separators=(',', ': '))\n",
    "print(isa_j)"
   ]
  },
  {
   "cell_type": "markdown",
   "metadata": {},
   "source": [
    "### Writing to file and closing the filehandle."
   ]
  },
  {
   "cell_type": "code",
   "execution_count": null,
   "metadata": {},
   "outputs": [],
   "source": []
  },
  {
   "cell_type": "code",
   "execution_count": null,
   "metadata": {},
   "outputs": [],
   "source": [
    "with open( 'isa.json', 'w') as out_fp:\n",
    "    json.dump(isa_j, out_fp)\n",
    "out_fp.close"
   ]
  },
  {
   "cell_type": "markdown",
   "metadata": {},
   "source": [
    "### Roundtripping: Reading back into ISA object after having dumped the test Study as ISA JSON\n"
   ]
  },
  {
   "cell_type": "code",
   "execution_count": null,
   "metadata": {
    "scrolled": false
   },
   "outputs": [],
   "source": [
    "with open( \"isa.json\", 'r') as input:\n",
    "    try:\n",
    "        jinput = json.loads(input.read())\n",
    "\n",
    "        #IMPORTANT: do not confuse JSON loads with ISA load function with reads a filehandle to an ISA JSON document into ISA objects.    \n",
    "        inv=load(io.StringIO(jinput))\n",
    "        print(inv)\n",
    "        print(inv.studies[0])\n",
    "        print(inv.studies[0].characteristic_categories[1])\n",
    "        print(inv.studies[0].sources[0].characteristics[0].category.term, \": \", inv.studies[0].sources[0].characteristics[0].value.term)\n",
    "    except IOError as ioe:\n",
    "            print(ioe)"
   ]
  }
 ],
 "metadata": {
  "kernelspec": {
   "display_name": "venv372",
   "language": "python",
   "name": "venv372"
  },
  "language_info": {
   "codemirror_mode": {
    "name": "ipython",
    "version": 3
   },
   "file_extension": ".py",
   "mimetype": "text/x-python",
   "name": "python",
   "nbconvert_exporter": "python",
   "pygments_lexer": "ipython3",
   "version": "3.7.2"
  },
  "widgets": {
   "state": {
    "7baa9c5f45bb4458984ca0e09a629029": {
     "views": [
      {
       "cell_index": 1
      }
     ]
    }
   },
   "version": "1.2.0"
  }
 },
 "nbformat": 4,
 "nbformat_minor": 1
}
